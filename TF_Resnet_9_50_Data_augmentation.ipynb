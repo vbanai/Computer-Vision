{
  "nbformat": 4,
  "nbformat_minor": 0,
  "metadata": {
    "colab": {
      "name": "TF_Resnet 9/50_Data_augmentation.ipynb",
      "provenance": [],
      "authorship_tag": "ABX9TyNLmPDNyYKFzRqmmQ6pkFgh",
      "include_colab_link": true
    },
    "kernelspec": {
      "name": "python3",
      "display_name": "Python 3"
    },
    "language_info": {
      "name": "python"
    },
    "accelerator": "GPU"
  },
  "cells": [
    {
      "cell_type": "markdown",
      "metadata": {
        "id": "view-in-github",
        "colab_type": "text"
      },
      "source": [
        "<a href=\"https://colab.research.google.com/github/vbanai/Multi-label-classification_DOLPHIN_HORSE_Part1_Pytorch-Conv2DandResnet9_Tensorflow_DNNandCNN/blob/main/TF_Resnet_9_50_Data_augmentation.ipynb\" target=\"_parent\"><img src=\"https://colab.research.google.com/assets/colab-badge.svg\" alt=\"Open In Colab\"/></a>"
      ]
    },
    {
      "cell_type": "code",
      "metadata": {
        "id": "boNNoWXjLNYB"
      },
      "source": [
        "#------Experimenting with Tensorflow CNN model with DATAAUGMENTATION ------\n",
        "#------ with dataaugmentation I reached worse result with TF than without it\n",
        "\n",
        "import os\n",
        "import cv2\n",
        "import math\n",
        "import random\n",
        "import shutil\n",
        "\n",
        "import numpy as np\n",
        "import pandas as pd\n",
        "import matplotlib.pyplot as plt\n",
        "import seaborn as sn\n",
        "\n",
        "import tensorflow as tf\n",
        "from tensorflow import keras\n",
        "from tensorflow.keras import layers\n",
        "from sklearn.preprocessing import StandardScaler\n"
      ],
      "execution_count": null,
      "outputs": []
    },
    {
      "cell_type": "code",
      "metadata": {
        "id": "qqzpKrhE17aM",
        "colab": {
          "base_uri": "https://localhost:8080/"
        },
        "outputId": "4aa6082c-e4cd-47a8-c836-7beed67e807c"
      },
      "source": [
        "from google.colab import drive\n",
        "drive.mount(\"/content/drive\", force_remount=True)"
      ],
      "execution_count": null,
      "outputs": [
        {
          "output_type": "stream",
          "text": [
            "Mounted at /content/drive\n"
          ],
          "name": "stdout"
        }
      ]
    },
    {
      "cell_type": "code",
      "metadata": {
        "id": "4AbHqSqjlJVv"
      },
      "source": [
        "path=\".\"\n",
        "os.chdir(path)\n",
        "os.makedirs(\"train\")\n",
        "os.makedirs(\"valid\")\n",
        "os.makedirs(\"test\")"
      ],
      "execution_count": null,
      "outputs": []
    },
    {
      "cell_type": "code",
      "metadata": {
        "id": "rSiLgwFSk10u",
        "colab": {
          "base_uri": "https://localhost:8080/"
        },
        "outputId": "1c4445ba-057b-4b1d-fd2a-3139e49a3686"
      },
      "source": [
        "!pip install pyunpack\n",
        "!pip install patool\n",
        "from pyunpack import Archive\n",
        "Archive('/content/drive/MyDrive/dolphin_train.rar').extractall('/content/train/')\n",
        "Archive('/content/drive/MyDrive/horse_train.rar').extractall('/content/train/')\n",
        "Archive(\"/content/drive/MyDrive/dolphin_horse_train.rar\").extractall('/content/train/')\n",
        "Archive('/content/drive/MyDrive/horse_valid.rar').extractall('/content/valid/')\n",
        "Archive('/content/drive/MyDrive/dolphin_valid.rar').extractall('/content/valid/')\n",
        "Archive('/content/drive/MyDrive/dolphin_horse_valid.rar').extractall('/content/valid/')\n",
        "Archive('/content/drive/MyDrive/DolphinTest.rar').extractall('/content/test/')\n",
        "Archive('/content/drive/MyDrive/HorseTest.rar').extractall('/content/test/')\n",
        "Archive(\"/content/drive/MyDrive/DolphinHorseTest.rar\").extractall('/content/test/')\n"
      ],
      "execution_count": null,
      "outputs": [
        {
          "output_type": "stream",
          "text": [
            "Collecting pyunpack\n",
            "  Downloading https://files.pythonhosted.org/packages/83/29/020436b1d8e96e5f26fa282b9c3c13a3b456a36b9ea2edc87c5fed008369/pyunpack-0.2.2-py2.py3-none-any.whl\n",
            "Collecting entrypoint2\n",
            "  Downloading https://files.pythonhosted.org/packages/8a/b0/8ef4b1d8be02448d164c52466530059d7f57218655d21309a0c4236d7454/entrypoint2-0.2.4-py3-none-any.whl\n",
            "Collecting easyprocess\n",
            "  Downloading https://files.pythonhosted.org/packages/48/3c/75573613641c90c6d094059ac28adb748560d99bd27ee6f80cce398f404e/EasyProcess-0.3-py2.py3-none-any.whl\n",
            "Installing collected packages: entrypoint2, easyprocess, pyunpack\n",
            "Successfully installed easyprocess-0.3 entrypoint2-0.2.4 pyunpack-0.2.2\n",
            "Collecting patool\n",
            "\u001b[?25l  Downloading https://files.pythonhosted.org/packages/43/94/52243ddff508780dd2d8110964320ab4851134a55ab102285b46e740f76a/patool-1.12-py2.py3-none-any.whl (77kB)\n",
            "\u001b[K     |████████████████████████████████| 81kB 3.5MB/s \n",
            "\u001b[?25hInstalling collected packages: patool\n",
            "Successfully installed patool-1.12\n"
          ],
          "name": "stdout"
        }
      ]
    },
    {
      "cell_type": "code",
      "metadata": {
        "id": "hWg9Fui6xEzz"
      },
      "source": [
        "\n"
      ],
      "execution_count": null,
      "outputs": []
    },
    {
      "cell_type": "code",
      "metadata": {
        "id": "bEMdqf0KpFmL",
        "colab": {
          "base_uri": "https://localhost:8080/",
          "height": 185
        },
        "outputId": "00ce69ba-e78c-4021-abc6-1349a28c2687"
      },
      "source": [
        "gen = keras.preprocessing.image.ImageDataGenerator(rescale=1./255)\n",
        "                                                         #rotation_range=20,\n",
        "                                                         #horizontal_flip=True,\n",
        "                                                         #width_shift_range=0.2, \n",
        "                                                         #height_shift_range=0.2,\n",
        "                                                         #shear_range=0.2, \n",
        "                                                         #zoom_range=0.2)\n",
        "\n",
        "\n",
        "data_augmentation=keras.Sequential([ \n",
        "                        layers.experimental.preprocessing.RandomContrast(factor=0.9),\n",
        "                        layers.experimental.preprocessing.RandomFlip(mode=\"horizontal\"),\n",
        "                        layers.experimental.preprocessing.RandomRotation(0.2),\n",
        "                        #layers.experimental.preprocessing.RandomCrop(30,30),\n",
        "                        layers.experimental.preprocessing.RandomZoom(0.3)\n",
        "                      \n",
        "                             \n",
        "\n",
        "])\n",
        "\n",
        "# Checking how to create more image from 1\n",
        "\n",
        "image_path=\"/content/test/DolphinTest/aagewag.jpg\"\n",
        "#image= cv2.imread(image_path)\n",
        "image2 = np.expand_dims(cv2.imread(image_path), axis=0)\n",
        "aug_image=gen.flow(image2)\n",
        "aug_images=[next(aug_image)[0] for i in range(10)]\n",
        "\n",
        "def show2(batch):    \n",
        "    for i in range(10):\n",
        "        plt.subplot(2,5,i+1)\n",
        "        plt.imshow(batch[i])\n",
        "        plt.xticks([])\n",
        "        plt.yticks([])\n",
        "        \n",
        "        \n",
        "show2(aug_images)\n",
        "\n",
        "#plt.imshow(next(aug_image)[0])\n",
        "\n"
      ],
      "execution_count": null,
      "outputs": [
        {
          "output_type": "display_data",
          "data": {
            "image/png": "[encoded data removed]",
            "text/plain": [
              "<Figure size 432x288 with 10 Axes>"
            ]
          },
          "metadata": {
            "tags": []
          }
        }
      ]
    },
    {
      "cell_type": "code",
      "metadata": {
        "id": "c_RlAKC0pe5V",
        "colab": {
          "base_uri": "https://localhost:8080/"
        },
        "outputId": "9cceff42-8ecd-49f8-a3b7-610787045ab8"
      },
      "source": [
        "image_path=\"/content/test/DolphinTest/aagewag.jpg\"\n",
        "#image= cv2.imread(image_path)\n",
        "image2 = np.expand_dims(cv2.imread(image_path), axis=0)\n",
        "aug_image=data_augmentation(image2)\n",
        "\n",
        "print(type(aug_image))"
      ],
      "execution_count": null,
      "outputs": [
        {
          "output_type": "stream",
          "text": [
            "<class 'tensorflow.python.framework.ops.EagerTensor'>\n"
          ],
          "name": "stdout"
        }
      ]
    },
    {
      "cell_type": "code",
      "metadata": {
        "id": "9LbiR2GNG9Y6",
        "colab": {
          "base_uri": "https://localhost:8080/"
        },
        "outputId": "02c0c5af-f1d7-4edb-d8c2-ae742e2f3c83"
      },
      "source": [
        "#--------------Creating TRAINING, VALIDATION AND TEST NP ARRAY FOR THE CNN MODEL------\n",
        "\n",
        "datadir=\"/content/train/\" \n",
        "train_categories=['horse_train/', 'dolphin_train/', 'dolphin_horse_train/']\n",
        "\n",
        "dataset_train=[]\n",
        "def create_train_data():\n",
        "  for category in train_categories:\n",
        "    path_train=os.path.join(datadir, category)\n",
        "    if category==\"horse_train/\":\n",
        "      class_num_train=[1,0]\n",
        "    if category==\"dolphin_train/\":\n",
        "      class_num_train=[0,1]\n",
        "    if category==\"dolphin_horse_train/\":\n",
        "      class_num_train=[1,1]\n",
        "    for img in os.listdir(path_train):  \n",
        "      try:\n",
        "        img_array=cv2.imread(os.path.join(path_train, img))#, cv2.IMREAD_GRAYSCALE)\n",
        "        new_array=cv2.resize(img_array, (64, 64)) \n",
        "        new_array1=new_array/255 \n",
        "        dataset_train.append([new_array1, class_num_train]) \n",
        "        #image2 = np.expand_dims(new_array, axis=0)\n",
        "        #aug_image=gen.flow(image2) \n",
        "        #dataset_train.append([next(aug_image)[0], class_num_train])\n",
        "      except Exception as e:\n",
        "        print(e)\n",
        "\n",
        "create_train_data()\n",
        "\n",
        "import random\n",
        "random.shuffle(dataset_train)\n",
        "\n",
        "inputs_train=[]\n",
        "targets_train=[]\n",
        "\n",
        "for image, label in dataset_train:\n",
        "  inputs_train.append(image)\n",
        "  targets_train.append(label)\n",
        "\n",
        "#---creating np array from the input images\n",
        "arr_inputs_train = np.array(inputs_train)\n",
        "arr_inputs_float_train=arr_inputs_train.astype('float32')\n",
        "\n",
        "\n",
        "arr_inputs_train_targets = np.array(targets_train)\n",
        "arr_inputs_float_train_targets=arr_inputs_train_targets.astype('float32')\n",
        "\n",
        "\n",
        "\n",
        "\n",
        "datadir=\"/content/valid/\" \n",
        "valid_categories=['horse_valid/', 'dolphin_valid/', 'dolphin_horse_valid/']\n",
        "\n",
        "dataset_valid=[]\n",
        "def create_validation_data():\n",
        "  for category in valid_categories:\n",
        "    path_valid=os.path.join(datadir, category)\n",
        "    if category==\"horse_valid/\":\n",
        "      class_num_valid=[1,0]\n",
        "    if category==\"dolphin_valid/\":\n",
        "      class_num_valid=[0,1]\n",
        "    if category==\"dolphin_horse_valid/\":\n",
        "      class_num_valid=[1,1]\n",
        "    for img in os.listdir(path_valid):  \n",
        "      try:\n",
        "        img_array=cv2.imread(os.path.join(path_valid, img))#, cv2.IMREAD_GRAYSCALE)\n",
        "        new_array=cv2.resize(img_array, (64, 64))\n",
        "        new_array1=new_array/255 \n",
        "        dataset_valid.append([new_array1, class_num_valid])  \n",
        "        #image2 = np.expand_dims(new_array, axis=0)\n",
        "        #aug_image=gen.flow(image2) \n",
        "        #dataset_valid.append([next(aug_image)[0], class_num_valid])\n",
        "      except Exception as e:\n",
        "        print(e)\n",
        "\n",
        "create_validation_data()\n",
        "\n",
        "import random\n",
        "random.shuffle(dataset_valid)\n",
        "\n",
        "inputs_val=[]\n",
        "targets_val=[]\n",
        "\n",
        "for image, label in dataset_valid:\n",
        "  inputs_val.append(image)\n",
        "  targets_val.append(label)\n",
        "\n",
        "#---creating np array from the input images\n",
        "arr_inputs_val = np.array(inputs_val)\n",
        "arr_inputs_float_val=arr_inputs_val.astype('float32')\n",
        "\n",
        "arr_inputs_val_targets = np.array(targets_val)\n",
        "arr_inputs_float_val_targets=arr_inputs_val_targets.astype('float32')\n",
        "\n",
        "\n",
        "datadir=\"/content/test/\" \n",
        "test_categories=['HorseTest/', 'DolphinTest/', 'DolphinHorseTest/']\n",
        "\n",
        "dataset_test=[]\n",
        "def create_test_data():\n",
        "  for category in test_categories:\n",
        "    path_test=os.path.join(datadir, category)\n",
        "    if category==\"HorseTest/\":\n",
        "      class_num_test=[1,0]\n",
        "    if category==\"DolphinTest/\":\n",
        "      class_num_test=[0,1]\n",
        "    if category==\"DolphinHorseTest/\":\n",
        "      class_num_test=[1,1]\n",
        "    for img in os.listdir(path_test):  \n",
        "      try:\n",
        "        img_array=cv2.imread(os.path.join(path_test, img))#, cv2.IMREAD_GRAYSCALE)\n",
        "        new_array=cv2.resize(img_array, (64, 64)) \n",
        "        new_array1=new_array/255 \n",
        "        dataset_test.append([new_array1, class_num_test])\n",
        "        #image2 = np.expand_dims(new_array, axis=0)\n",
        "        #aug_image=gen.flow(image2) \n",
        "        #dataset_test.append([next(aug_image)[0], class_num_test])\n",
        "      except Exception as e:\n",
        "        print(e)\n",
        "\n",
        "create_test_data()\n",
        "\n",
        "import random\n",
        "random.shuffle(dataset_test)\n",
        "\n",
        "inputs_test=[]\n",
        "targets_test=[]\n",
        "\n",
        "for image, label in dataset_test:\n",
        "  inputs_test.append(image)\n",
        "  targets_test.append(label)\n",
        "\n",
        "#---creating np array from the input images\n",
        "arr_inputs_test = np.array(inputs_test)\n",
        "arr_inputs_float_test=arr_inputs_test.astype('float32')\n",
        "\n",
        "arr_inputs_test_targets = np.array(targets_test)\n",
        "arr_inputs_float_test_targets=arr_inputs_test_targets.astype('float32')\n"
      ],
      "execution_count": null,
      "outputs": [
        {
          "output_type": "stream",
          "text": [
            "OpenCV(4.1.2) /io/opencv/modules/imgproc/src/resize.cpp:3720: error: (-215:Assertion failed) !ssize.empty() in function 'resize'\n",
            "\n",
            "OpenCV(4.1.2) /io/opencv/modules/imgproc/src/resize.cpp:3720: error: (-215:Assertion failed) !ssize.empty() in function 'resize'\n",
            "\n",
            "OpenCV(4.1.2) /io/opencv/modules/imgproc/src/resize.cpp:3720: error: (-215:Assertion failed) !ssize.empty() in function 'resize'\n",
            "\n"
          ],
          "name": "stdout"
        }
      ]
    },
    {
      "cell_type": "code",
      "metadata": {
        "id": "IUW9F-mSKKFu",
        "colab": {
          "base_uri": "https://localhost:8080/"
        },
        "outputId": "07da2f58-634f-4af7-a5e9-613b367a0cdd"
      },
      "source": [
        "modelCNN = keras.models.Sequential()\n",
        "modelCNN.add(data_augmentation)\n",
        "modelCNN.add(layers.Conv2D(32, (3,3), strides=(1,1), padding=\"valid\", activation='relu', input_shape=(64,64,3)))  #64\n",
        "modelCNN.add(layers.MaxPool2D((2,2)))   #32\n",
        "modelCNN.add(layers.Conv2D(64, 3, activation='relu'))\n",
        "modelCNN.add(layers.MaxPool2D((2,2)))  #16\n",
        "modelCNN.add(layers.Conv2D(128, 3, activation='relu'))\n",
        "modelCNN.add(layers.MaxPool2D((2,2)))  #8\n",
        "modelCNN.add(layers.Conv2D(256, 3, activation='relu'))\n",
        "modelCNN.add(layers.MaxPool2D((2,2)))  #4\n",
        "modelCNN.add(layers.MaxPool2D((2,2)))  #2\n",
        "modelCNN.add(layers.Flatten())\n",
        "modelCNN.add(layers.Dense(1024, activation='relu'))\n",
        "modelCNN.add(layers.Dropout(0.2))\n",
        "modelCNN.add(layers.Dense(512, activation='relu'))\n",
        "modelCNN.add(layers.Dropout(0.2))\n",
        "modelCNN.add(layers.Dense(2, activation='sigmoid'))\n",
        "\n",
        "\n",
        "# 2.) lOSS, OPTIMIZER, METRICS\n",
        "loss = keras.losses.BinaryCrossentropy(from_logits=False)  #SparseCategoricalCrossentropy as we have single classes(1,2), \n",
        "                                                                    #if it is vector (0,1,0,0....) CategoricalCrossentropy. \n",
        "                                                                    #From_logits=True as we didn't build the softmax into the model\n",
        "optim = keras.optimizers.Adam(lr=0.001)\n",
        "metrics = [\"accuracy\"]\n",
        "\n",
        "# 3.) CONFIGURATION OF THE MODEL\n",
        "\n",
        "modelCNN.compile(loss=loss, optimizer=optim, metrics=metrics)\n",
        "\n",
        "# 4.) TRAINING\n",
        "batch_size = 32\n",
        "epochs = 40\n",
        "\n",
        "modelCNN.fit(arr_inputs_float_train, arr_inputs_float_train_targets,\n",
        "             validation_data=(arr_inputs_float_val, arr_inputs_float_val_targets), \n",
        "             batch_size=batch_size, epochs=epochs, shuffle=True, verbose=2)"
      ],
      "execution_count": null,
      "outputs": [
        {
          "output_type": "stream",
          "text": [
            "/usr/local/lib/python3.7/dist-packages/tensorflow/python/keras/optimizer_v2/optimizer_v2.py:375: UserWarning: The `lr` argument is deprecated, use `learning_rate` instead.\n",
            "  \"The `lr` argument is deprecated, use `learning_rate` instead.\")\n"
          ],
          "name": "stderr"
        },
        {
          "output_type": "stream",
          "text": [
            "Epoch 1/40\n",
            "15/15 - 31s - loss: 0.6388 - accuracy: 0.6385 - val_loss: 0.6933 - val_accuracy: 0.7822\n",
            "Epoch 2/40\n",
            "15/15 - 0s - loss: 0.5508 - accuracy: 0.7468 - val_loss: 0.3409 - val_accuracy: 0.8911\n",
            "Epoch 3/40\n",
            "15/15 - 0s - loss: 0.4384 - accuracy: 0.7944 - val_loss: 0.3022 - val_accuracy: 0.8713\n",
            "Epoch 4/40\n",
            "15/15 - 0s - loss: 0.4121 - accuracy: 0.8203 - val_loss: 0.2589 - val_accuracy: 0.8614\n",
            "Epoch 5/40\n",
            "15/15 - 0s - loss: 0.3975 - accuracy: 0.7987 - val_loss: 0.2534 - val_accuracy: 0.8119\n",
            "Epoch 6/40\n",
            "15/15 - 0s - loss: 0.4043 - accuracy: 0.7900 - val_loss: 0.3813 - val_accuracy: 0.8614\n",
            "Epoch 7/40\n",
            "15/15 - 0s - loss: 0.5301 - accuracy: 0.7532 - val_loss: 0.4265 - val_accuracy: 0.8416\n",
            "Epoch 8/40\n",
            "15/15 - 0s - loss: 0.4399 - accuracy: 0.8117 - val_loss: 0.2537 - val_accuracy: 0.7822\n",
            "Epoch 9/40\n",
            "15/15 - 0s - loss: 0.3569 - accuracy: 0.8030 - val_loss: 0.2131 - val_accuracy: 0.8614\n",
            "Epoch 10/40\n",
            "15/15 - 0s - loss: 0.3389 - accuracy: 0.8139 - val_loss: 0.2238 - val_accuracy: 0.8812\n",
            "Epoch 11/40\n",
            "15/15 - 0s - loss: 0.3448 - accuracy: 0.8160 - val_loss: 0.2349 - val_accuracy: 0.8218\n",
            "Epoch 12/40\n",
            "15/15 - 0s - loss: 0.3591 - accuracy: 0.7944 - val_loss: 0.2151 - val_accuracy: 0.8713\n",
            "Epoch 13/40\n",
            "15/15 - 0s - loss: 0.3608 - accuracy: 0.8290 - val_loss: 0.1885 - val_accuracy: 0.8713\n",
            "Epoch 14/40\n",
            "15/15 - 0s - loss: 0.3287 - accuracy: 0.8225 - val_loss: 0.2241 - val_accuracy: 0.9010\n",
            "Epoch 15/40\n",
            "15/15 - 0s - loss: 0.3432 - accuracy: 0.8203 - val_loss: 0.2235 - val_accuracy: 0.8812\n",
            "Epoch 16/40\n",
            "15/15 - 0s - loss: 0.3586 - accuracy: 0.8030 - val_loss: 0.2400 - val_accuracy: 0.8713\n",
            "Epoch 17/40\n",
            "15/15 - 0s - loss: 0.3183 - accuracy: 0.8074 - val_loss: 0.2352 - val_accuracy: 0.8614\n",
            "Epoch 18/40\n",
            "15/15 - 0s - loss: 0.3404 - accuracy: 0.8139 - val_loss: 0.2670 - val_accuracy: 0.7822\n",
            "Epoch 19/40\n",
            "15/15 - 0s - loss: 0.3227 - accuracy: 0.8355 - val_loss: 0.2243 - val_accuracy: 0.8416\n",
            "Epoch 20/40\n",
            "15/15 - 0s - loss: 0.3071 - accuracy: 0.8139 - val_loss: 0.2139 - val_accuracy: 0.8515\n",
            "Epoch 21/40\n",
            "15/15 - 0s - loss: 0.3350 - accuracy: 0.8139 - val_loss: 0.2401 - val_accuracy: 0.8614\n",
            "Epoch 22/40\n",
            "15/15 - 0s - loss: 0.3616 - accuracy: 0.8268 - val_loss: 0.2160 - val_accuracy: 0.8713\n",
            "Epoch 23/40\n",
            "15/15 - 0s - loss: 0.3157 - accuracy: 0.8312 - val_loss: 0.1986 - val_accuracy: 0.8515\n",
            "Epoch 24/40\n",
            "15/15 - 0s - loss: 0.3156 - accuracy: 0.8355 - val_loss: 0.2099 - val_accuracy: 0.8416\n",
            "Epoch 25/40\n",
            "15/15 - 0s - loss: 0.3180 - accuracy: 0.8442 - val_loss: 0.2157 - val_accuracy: 0.8317\n",
            "Epoch 26/40\n",
            "15/15 - 0s - loss: 0.3194 - accuracy: 0.8420 - val_loss: 0.2489 - val_accuracy: 0.7921\n",
            "Epoch 27/40\n",
            "15/15 - 0s - loss: 0.2955 - accuracy: 0.8398 - val_loss: 0.2912 - val_accuracy: 0.7525\n",
            "Epoch 28/40\n",
            "15/15 - 0s - loss: 0.3133 - accuracy: 0.8398 - val_loss: 0.2398 - val_accuracy: 0.8020\n",
            "Epoch 29/40\n",
            "15/15 - 0s - loss: 0.3086 - accuracy: 0.8398 - val_loss: 0.2014 - val_accuracy: 0.8713\n",
            "Epoch 30/40\n",
            "15/15 - 0s - loss: 0.2992 - accuracy: 0.8268 - val_loss: 0.2126 - val_accuracy: 0.8317\n",
            "Epoch 31/40\n",
            "15/15 - 0s - loss: 0.3105 - accuracy: 0.8355 - val_loss: 0.2666 - val_accuracy: 0.7723\n",
            "Epoch 32/40\n",
            "15/15 - 0s - loss: 0.3302 - accuracy: 0.8290 - val_loss: 0.3347 - val_accuracy: 0.7624\n",
            "Epoch 33/40\n",
            "15/15 - 0s - loss: 0.3591 - accuracy: 0.8442 - val_loss: 0.2219 - val_accuracy: 0.8416\n",
            "Epoch 34/40\n",
            "15/15 - 0s - loss: 0.3301 - accuracy: 0.8377 - val_loss: 0.2057 - val_accuracy: 0.8416\n",
            "Epoch 35/40\n",
            "15/15 - 0s - loss: 0.2844 - accuracy: 0.8377 - val_loss: 0.1741 - val_accuracy: 0.9010\n",
            "Epoch 36/40\n",
            "15/15 - 0s - loss: 0.2816 - accuracy: 0.8550 - val_loss: 0.1989 - val_accuracy: 0.8416\n",
            "Epoch 37/40\n",
            "15/15 - 0s - loss: 0.2834 - accuracy: 0.8377 - val_loss: 0.1678 - val_accuracy: 0.8416\n",
            "Epoch 38/40\n",
            "15/15 - 0s - loss: 0.2983 - accuracy: 0.8442 - val_loss: 0.2650 - val_accuracy: 0.7921\n",
            "Epoch 39/40\n",
            "15/15 - 0s - loss: 0.2984 - accuracy: 0.8398 - val_loss: 0.1824 - val_accuracy: 0.8317\n",
            "Epoch 40/40\n",
            "15/15 - 0s - loss: 0.3175 - accuracy: 0.8442 - val_loss: 0.2093 - val_accuracy: 0.8218\n"
          ],
          "name": "stdout"
        },
        {
          "output_type": "execute_result",
          "data": {
            "text/plain": [
              "<tensorflow.python.keras.callbacks.History at 0x7f78445dc810>"
            ]
          },
          "metadata": {
            "tags": []
          },
          "execution_count": 10
        }
      ]
    },
    {
      "cell_type": "code",
      "metadata": {
        "id": "hAN5wPBbhOZn",
        "colab": {
          "base_uri": "https://localhost:8080/"
        },
        "outputId": "8f17f462-3c54-4ab8-90a2-2eab7efb4c83"
      },
      "source": [
        "\n",
        "modelCNN.evaluate(arr_inputs_float_test, arr_inputs_float_test_targets)"
      ],
      "execution_count": null,
      "outputs": [
        {
          "output_type": "stream",
          "text": [
            "3/3 [==============================] - 0s 54ms/step - loss: 0.2224 - accuracy: 0.7973\n"
          ],
          "name": "stdout"
        },
        {
          "output_type": "execute_result",
          "data": {
            "text/plain": [
              "[0.22243528068065643, 0.7972972989082336]"
            ]
          },
          "metadata": {
            "tags": []
          },
          "execution_count": 11
        }
      ]
    },
    {
      "cell_type": "markdown",
      "metadata": {
        "id": "V0cHZ08xk8f4"
      },
      "source": [
        "Experiment with resnet 50"
      ]
    },
    {
      "cell_type": "code",
      "metadata": {
        "id": "cbNWoZmMk7oj"
      },
      "source": [
        "import numpy as np\n",
        "from keras import layers\n",
        "from keras.layers import Input, Add, Dense, Activation, ZeroPadding2D, BatchNormalization, Flatten, Conv2D, AveragePooling2D, MaxPooling2D, GlobalMaxPooling2D\n",
        "from keras.models import Model, load_model\n",
        "from keras.preprocessing import image\n",
        "from keras.utils import layer_utils\n",
        "from keras.utils.data_utils import get_file\n",
        "from keras.applications.imagenet_utils import preprocess_input\n",
        "import pydot\n",
        "from IPython.display import SVG\n",
        "from keras.utils.vis_utils import model_to_dot\n",
        "#from keras.utils import plot_model\n",
        "\n",
        "from keras.initializers import glorot_uniform\n",
        "import scipy.misc\n",
        "from matplotlib.pyplot import imshow\n",
        "\n",
        "from keras.initializers import glorot_uniform\n",
        "from keras.layers import Input, Add, Dense, Activation, ZeroPadding2D, BatchNormalization, Flatten, Conv2D, AveragePooling2D, MaxPooling2D, GlobalMaxPooling2D"
      ],
      "execution_count": null,
      "outputs": []
    },
    {
      "cell_type": "code",
      "metadata": {
        "id": "IMABvyNMrPlU",
        "colab": {
          "base_uri": "https://localhost:8080/"
        },
        "outputId": "68efe166-0911-4017-b1bf-4cf189b7ba16"
      },
      "source": [
        "datadir=\"/content/train/\" \n",
        "train_categories=['horse_train/', 'dolphin_train/', 'dolphin_horse_train/']\n",
        "\n",
        "dataset_train=[]\n",
        "def create_train_data():\n",
        "  for category in train_categories:\n",
        "    path_train=os.path.join(datadir, category)\n",
        "    if category==\"horse_train/\":\n",
        "      class_num_train=[1,0]\n",
        "    if category==\"dolphin_train/\":\n",
        "      class_num_train=[0,1]\n",
        "    if category==\"dolphin_horse_train/\":\n",
        "      class_num_train=[1,1]\n",
        "    for img in os.listdir(path_train):  \n",
        "      try:\n",
        "        img_array=cv2.imread(os.path.join(path_train, img))#, cv2.IMREAD_GRAYSCALE)\n",
        "        new_array=cv2.resize(img_array, (224, 224)) \n",
        "        new_array1=new_array/255 \n",
        "        #scaling=StandardScaler()\n",
        "        #new_array1=scaling.fit_transform(new_array.reshape(-1, new_array.shape[-1])).reshape(new_array)\n",
        "        dataset_train.append([new_array1, class_num_train]) \n",
        "        #image2 = np.expand_dims(new_array, axis=0)\n",
        "        #aug_image=gen.flow(image2) \n",
        "        #dataset_train.append([next(aug_image)[0], class_num_train])\n",
        "      except Exception as e:\n",
        "        print(e)\n",
        "\n",
        "create_train_data()\n",
        "\n",
        "import random\n",
        "random.shuffle(dataset_train)\n",
        "\n",
        "inputs_train=[]\n",
        "targets_train=[]\n",
        "\n",
        "for image, label in dataset_train:\n",
        "  inputs_train.append(image)\n",
        "  targets_train.append(label)\n",
        "\n",
        "#---creating np array from the input images\n",
        "arr_inputs_train = np.array(inputs_train)\n",
        "arr_inputs_float_train=arr_inputs_train.astype('float32')\n",
        "\n",
        "\n",
        "arr_inputs_train_targets = np.array(targets_train)\n",
        "arr_inputs_float_train_targets=arr_inputs_train_targets.astype('float32')\n",
        "\n",
        "\n",
        "\n",
        "\n",
        "datadir=\"/content/valid/\" \n",
        "valid_categories=['horse_valid/', 'dolphin_valid/', 'dolphin_horse_valid/']\n",
        "\n",
        "dataset_valid=[]\n",
        "def create_validation_data():\n",
        "  for category in valid_categories:\n",
        "    path_valid=os.path.join(datadir, category)\n",
        "    if category==\"horse_valid/\":\n",
        "      class_num_valid=[1,0]\n",
        "    if category==\"dolphin_valid/\":\n",
        "      class_num_valid=[0,1]\n",
        "    if category==\"dolphin_horse_valid/\":\n",
        "      class_num_valid=[1,1]\n",
        "    for img in os.listdir(path_valid):  \n",
        "      try:\n",
        "        img_array=cv2.imread(os.path.join(path_valid, img))#, cv2.IMREAD_GRAYSCALE)\n",
        "        new_array=cv2.resize(img_array, (224, 224))\n",
        "        new_array1=new_array/255 \n",
        "        #scaling=StandardScaler()\n",
        "        #new_array1=scaling.fit_transform(new_array.reshape(-1, new_array.shape[-1])).reshape(new_array)\n",
        "        dataset_valid.append([new_array1, class_num_valid])  \n",
        "        #image2 = np.expand_dims(new_array, axis=0)\n",
        "        #aug_image=gen.flow(image2) \n",
        "        #dataset_valid.append([next(aug_image)[0], class_num_valid])\n",
        "      except Exception as e:\n",
        "        print(e)\n",
        "\n",
        "create_validation_data()\n",
        "\n",
        "import random\n",
        "random.shuffle(dataset_valid)\n",
        "\n",
        "inputs_val=[]\n",
        "targets_val=[]\n",
        "\n",
        "for image, label in dataset_valid:\n",
        "  inputs_val.append(image)\n",
        "  targets_val.append(label)\n",
        "\n",
        "#---creating np array from the input images\n",
        "arr_inputs_val = np.array(inputs_val)\n",
        "arr_inputs_float_val=arr_inputs_val.astype('float32')\n",
        "\n",
        "arr_inputs_val_targets = np.array(targets_val)\n",
        "arr_inputs_float_val_targets=arr_inputs_val_targets.astype('float32')\n",
        "\n",
        "\n",
        "datadir=\"/content/test/\" \n",
        "test_categories=['HorseTest/', 'DolphinTest/', 'DolphinHorseTest/']\n",
        "\n",
        "dataset_test=[]\n",
        "def create_test_data():\n",
        "  for category in test_categories:\n",
        "    path_test=os.path.join(datadir, category)\n",
        "    if category==\"HorseTest/\":\n",
        "      class_num_test=[1,0]\n",
        "    if category==\"DolphinTest/\":\n",
        "      class_num_test=[0,1]\n",
        "    if category==\"DolphinHorseTest/\":\n",
        "      class_num_test=[1,1]\n",
        "    for img in os.listdir(path_test):  \n",
        "      try:\n",
        "        img_array=cv2.imread(os.path.join(path_test, img))#, cv2.IMREAD_GRAYSCALE)\n",
        "        new_array=cv2.resize(img_array, (224, 224)) \n",
        "        new_array1=new_array/255 \n",
        "        #scaling=StandardScaler()\n",
        "        #scalers = {}\n",
        "        #new_array1=scaling.fit_transform(new_array.reshape(-1, new_array.shape[-1])).reshape(new_array)\n",
        "        dataset_test.append([new_array1, class_num_test])\n",
        "        #image2 = np.expand_dims(new_array, axis=0)\n",
        "        #aug_image=gen.flow(image2) \n",
        "        #dataset_test.append([next(aug_image)[0], class_num_test])\n",
        "      except Exception as e:\n",
        "        print(e)\n",
        "\n",
        "create_test_data()\n",
        "\n",
        "import random\n",
        "random.shuffle(dataset_test)\n",
        "\n",
        "inputs_test=[]\n",
        "targets_test=[]\n",
        "\n",
        "for image, label in dataset_test:\n",
        "  inputs_test.append(image)\n",
        "  targets_test.append(label)\n",
        "\n",
        "#---creating np array from the input images\n",
        "arr_inputs_test = np.array(inputs_test)\n",
        "arr_inputs_float_test=arr_inputs_test.astype('float32')\n",
        "\n",
        "arr_inputs_test_targets = np.array(targets_test)\n",
        "arr_inputs_float_test_targets=arr_inputs_test_targets.astype('float32')"
      ],
      "execution_count": null,
      "outputs": [
        {
          "output_type": "stream",
          "text": [
            "OpenCV(4.1.2) /io/opencv/modules/imgproc/src/resize.cpp:3720: error: (-215:Assertion failed) !ssize.empty() in function 'resize'\n",
            "\n",
            "OpenCV(4.1.2) /io/opencv/modules/imgproc/src/resize.cpp:3720: error: (-215:Assertion failed) !ssize.empty() in function 'resize'\n",
            "\n",
            "OpenCV(4.1.2) /io/opencv/modules/imgproc/src/resize.cpp:3720: error: (-215:Assertion failed) !ssize.empty() in function 'resize'\n",
            "\n"
          ],
          "name": "stdout"
        }
      ]
    },
    {
      "cell_type": "code",
      "metadata": {
        "id": "5_RqIRs0mhmS"
      },
      "source": [
        "def identity_block(X, f, filters):\n",
        "\n",
        "    # Retrieve Filters\n",
        "    F1, F2, F3 = filters  # F1=64,F2=64,256\n",
        "    \n",
        "    X_shortcut = X\n",
        "    \n",
        "    # First  layer\n",
        "    X = Conv2D(filters = F1, kernel_size = (1, 1), strides = (1,1), padding = 'valid')(X)\n",
        "    X = BatchNormalization(axis = 3)(X)\n",
        "    X = Activation('relu')(X)\n",
        "\n",
        "    \n",
        "    # Second  layer\n",
        "    X = Conv2D(filters = F2, kernel_size = (f, f), strides = (1,1), padding = 'same')(X)\n",
        "    X = BatchNormalization(axis = 3)(X)\n",
        "    X = Activation('relu')(X)\n",
        "\n",
        "    # Third  layer\n",
        "    X = Conv2D(filters = F3, kernel_size = (1, 1), strides = (1,1), padding = 'valid')(X)\n",
        "    X = BatchNormalization(axis = 3)(X)\n",
        "\n",
        "    # Final step: Add shortcut value to F(X), and pass it through a RELU activation \n",
        "    X = Add()([X, X_shortcut])\n",
        "    X = Activation('relu')(X)\n",
        "    \n",
        "    \n",
        "    return X"
      ],
      "execution_count": null,
      "outputs": []
    },
    {
      "cell_type": "code",
      "metadata": {
        "id": "ZCV8syXQm1TA"
      },
      "source": [
        "def convolutional_block(X, f, filters, s = 2):\n",
        "\n",
        "    \n",
        "    # Retrieve Filters\n",
        "    F1, F2, F3 = filters\n",
        "    \n",
        "    # Save the input value\n",
        "    X_shortcut = X\n",
        "\n",
        "\n",
        "    # First layer \n",
        "    X = Conv2D(F1, (1, 1), strides = (s,s))(X) # 1,1 is filter size\n",
        "    X = BatchNormalization(axis = 3)(X)  # normalization on channels\n",
        "    X = Activation('relu')(X)\n",
        "\n",
        "      \n",
        "    # Second layer  (f,f)=3*3 filter by default\n",
        "    X = Conv2D(filters = F2, kernel_size = (f, f), strides = (1,1), padding = 'same')(X)\n",
        "    X = BatchNormalization(axis = 3)(X)\n",
        "    X = Activation('relu')(X)\n",
        "\n",
        "\n",
        "    # Third layer\n",
        "    X = Conv2D(filters = F3, kernel_size = (1, 1), strides = (1,1), padding = 'valid')(X)\n",
        "    X = BatchNormalization(axis = 3)(X)\n",
        "\n",
        "\n",
        "    ##### SHORTCUT PATH #### \n",
        "    X_shortcut = Conv2D(filters = F3, kernel_size = (1, 1), strides = (s,s), padding = 'valid')(X_shortcut)\n",
        "    X_shortcut = BatchNormalization(axis = 3)(X_shortcut)\n",
        "\n",
        "    # Final step: Add shortcut value here, and pass it through a RELU activation \n",
        "    X = Add()([X, X_shortcut])\n",
        "    X = Activation('relu')(X)\n",
        "    \n",
        "    \n",
        "    return X"
      ],
      "execution_count": null,
      "outputs": []
    },
    {
      "cell_type": "code",
      "metadata": {
        "id": "veX7BjnanAtA"
      },
      "source": [
        "def ResNet50(input_shape=(224, 224, 3), classes=2):\n",
        "    \"\"\"\n",
        "    Implementation of the ResNet50 architecture:\n",
        "    CONV2D -> BATCHNORM -> RELU -> MAXPOOL -> CONVBLOCK -> IDBLOCK*2 -> CONVBLOCK -> IDBLOCK*3\n",
        "    -> CONVBLOCK -> IDBLOCK*5 -> CONVBLOCK -> IDBLOCK*2 -> AVGPOOL -> TOPLAYER\n",
        "\n",
        "    \"\"\"\n",
        "\n",
        "    # Define the input with shape input_shape\n",
        "    X_input = Input(input_shape)\n",
        "\n",
        "    # Zero-Padding\n",
        "    X = ZeroPadding2D((3, 3))(X_input) #3,3 padding\n",
        "\n",
        "    # Stage 1\n",
        "    X = Conv2D(64, (7, 7), strides=(2, 2))(X) \n",
        "    X = BatchNormalization(axis=3)(X) \n",
        "    X = Activation('relu')(X)\n",
        "    X = MaxPooling2D((3, 3), strides=(2, 2))(X)\n",
        "\n",
        "    # Stage 2\n",
        "    X = convolutional_block(X, f=3, filters=[64, 64, 256], s=2)\n",
        " \n",
        "   \n",
        "    # below 3 lines are the conv layers from convolutional_block function defined above\n",
        "    #X = Conv2D(F1, (1, 1), strides = (s,s))(X)\n",
        "    #X = Conv2D(F2, kernel_size = (f, f), strides = (1,1), padding = 'same')(X)\n",
        "    #X = Conv2D(F3, (1, 1), strides = (s,s), name = conv_name_base + '2a')(X)\n",
        "   \n",
        "    X = identity_block(X, 3, [64, 64, 256]) \n",
        "    #X = Conv2D(filters = F1, kernel_size = (1, 1), strides = (1,1), padding = 'valid')(X)\n",
        "    #X = Conv2D(filters = F2, kernel_size = (f, f), strides = (1,1), padding = 'same')(X)\n",
        "    #X = Conv2D(filters = F3, kernel_size = (1, 1), strides = (1,1), padding = 'valid')(X)\n",
        "  \n",
        "    X = identity_block(X, 3, [64, 64, 256])\n",
        "    #X = Conv2D(filters = F1, kernel_size = (1, 1), strides = (1,1), padding = 'valid')(X)\n",
        "    #X = Conv2D(filters = F2, kernel_size = (f, f), strides = (1,1), padding = 'same')(X)\n",
        "    #X = Conv2D(filters = F3, kernel_size = (1, 1), strides = (1,1), padding = 'valid')(X)\n",
        "\n",
        "\n",
        "    # Stage 3 \n",
        "    X = convolutional_block(X, f = 3, filters = [128, 128, 512], s = 1)\n",
        "    X = identity_block(X, 3, [128, 128, 512])\n",
        "    X = identity_block(X, 3, [128, 128, 512])\n",
        "    X = identity_block(X, 3, [128, 128, 512])\n",
        "\n",
        "    # Stage 4 \n",
        "    X = convolutional_block(X, f = 3, filters = [256, 256, 1024], s = 2)\n",
        "    X = identity_block(X, 3, [256, 256, 1024])\n",
        "    X = identity_block(X, 3, [256, 256, 1024])\n",
        "    X = identity_block(X, 3, [256, 256, 1024])\n",
        "    X = identity_block(X, 3, [256, 256, 1024])\n",
        "    X = identity_block(X, 3, [256, 256, 1024])\n",
        "\n",
        "    # Stage 5 \n",
        "    X = convolutional_block(X, f = 3, filters = [512, 512, 2048], s = 2)\n",
        "    X = identity_block(X, 3, [512, 512, 2048])\n",
        "    X = identity_block(X, 3, [512, 512, 2048])\n",
        "\n",
        "    # AVGPOOL \n",
        "    X = AveragePooling2D((2,2), name=\"avg_pool\")(X)\n",
        "\n",
        "    ### END CODE HERE ###\n",
        "\n",
        "    # output layer\n",
        "    X = Flatten()(X)\n",
        "    X=tf.keras.layers.Dropout(0.2)(X)\n",
        "    #X=Dropout(0.2)(X)\n",
        "    X=Dense(1024, activation='relu')(X)\n",
        "    X=Dense(512, activation='relu')(X)\n",
        "    X = Dense(classes, activation='sigmoid', name='fc' + str(classes), kernel_initializer = glorot_uniform(seed=0))(X)\n",
        "  \n",
        "    \n",
        "    # Create model\n",
        "    model = Model(inputs = X_input, outputs = X, name='ResNet50')\n",
        "\n",
        "    return model"
      ],
      "execution_count": null,
      "outputs": []
    },
    {
      "cell_type": "code",
      "metadata": {
        "id": "jfBC2Y1u1-yx"
      },
      "source": [
        "model = ResNet50(input_shape = (224, 224, 3), classes = 2)"
      ],
      "execution_count": null,
      "outputs": []
    },
    {
      "cell_type": "code",
      "metadata": {
        "id": "d29r6kks99_c"
      },
      "source": [
        "#trying lr scheduler\n",
        "\n",
        "lr_schedule = tf.keras.callbacks.LearningRateScheduler(\n",
        "    lambda epoch: 1e-8 * 10**(epoch / 20))\n",
        "optim = keras.optimizers.Adam(lr=0.001, decay=1e-6)\n",
        "model.compile(optimizer=optim, loss='BinaryCrossentropy', metrics=['accuracy'])\n",
        "\n",
        "history=model.fit(arr_inputs_float_train, arr_inputs_float_train_targets,\n",
        "          validation_data=(arr_inputs_float_val, arr_inputs_float_val_targets),\n",
        "          epochs = 100, callbacks=[lr_schedule], batch_size = 32)"
      ],
      "execution_count": null,
      "outputs": []
    },
    {
      "cell_type": "code",
      "metadata": {
        "colab": {
          "base_uri": "https://localhost:8080/",
          "height": 291
        },
        "id": "GlZSCLIw_RtG",
        "outputId": "0540309a-ca18-48b3-eeb4-34ef628e3de3"
      },
      "source": [
        "lrs = 1e-8 * (10 ** (np.arange(100) / 20))\n",
        "plt.plot(lrs, history.history[\"loss\"])\n",
        "plt.semilogx(lrs, history.history[\"loss\"])\n",
        "#plt.axis([1e-8, 1e-3, 0, 300])"
      ],
      "execution_count": null,
      "outputs": [
        {
          "output_type": "execute_result",
          "data": {
            "text/plain": [
              "[<matplotlib.lines.Line2D at 0x7f94f21a2fd0>]"
            ]
          },
          "metadata": {
            "tags": []
          },
          "execution_count": 13
        },
        {
          "output_type": "display_data",
          "data": {
            "image/png": "[encoded data removed]",
            "text/plain": [
              "<Figure size 432x288 with 1 Axes>"
            ]
          },
          "metadata": {
            "tags": [],
            "needs_background": "light"
          }
        }
      ]
    },
    {
      "cell_type": "code",
      "metadata": {
        "colab": {
          "base_uri": "https://localhost:8080/"
        },
        "id": "ZRnAsX6u_HAo",
        "outputId": "6d9409e3-9631-4e01-ec98-d895526cb81a"
      },
      "source": [
        "a=history.history[\"loss\"]\n",
        "b=a.index(min(a))\n",
        "print(lrs[b])"
      ],
      "execution_count": null,
      "outputs": [
        {
          "output_type": "stream",
          "text": [
            "0.0002511886431509582\n"
          ],
          "name": "stdout"
        }
      ]
    },
    {
      "cell_type": "code",
      "metadata": {
        "id": "gLhjIIxBnQm4",
        "colab": {
          "base_uri": "https://localhost:8080/"
        },
        "outputId": "31dd567b-22ed-4376-eff0-623ef4dc94d3"
      },
      "source": [
        "\n",
        "\n",
        "\n",
        "optim = keras.optimizers.Adam(lr=0.001)\n",
        "model.compile(optimizer=optim, loss='BinaryCrossentropy', metrics=['accuracy'])\n",
        "\n",
        "\n",
        "model.fit(arr_inputs_float_train, arr_inputs_float_train_targets,\n",
        "          validation_data=(arr_inputs_float_val, arr_inputs_float_val_targets),\n",
        "          epochs = 100, batch_size = 32)\n",
        "\n",
        "\n",
        "\n"
      ],
      "execution_count": null,
      "outputs": [
        {
          "output_type": "stream",
          "text": [
            "/usr/local/lib/python3.7/dist-packages/tensorflow/python/keras/optimizer_v2/optimizer_v2.py:375: UserWarning: The `lr` argument is deprecated, use `learning_rate` instead.\n",
            "  \"The `lr` argument is deprecated, use `learning_rate` instead.\")\n"
          ],
          "name": "stderr"
        },
        {
          "output_type": "stream",
          "text": [
            "Epoch 1/100\n",
            "15/15 [==============================] - 28s 912ms/step - loss: 2.2319 - accuracy: 0.6255 - val_loss: 3.7916 - val_accuracy: 0.5941\n",
            "Epoch 2/100\n",
            "15/15 [==============================] - 9s 582ms/step - loss: 0.8202 - accuracy: 0.7084 - val_loss: 23.8373 - val_accuracy: 0.5941\n",
            "Epoch 3/100\n",
            "15/15 [==============================] - 9s 583ms/step - loss: 0.4685 - accuracy: 0.7961 - val_loss: 878.1693 - val_accuracy: 0.6040\n",
            "Epoch 4/100\n",
            "15/15 [==============================] - 9s 583ms/step - loss: 0.4013 - accuracy: 0.8223 - val_loss: 728.3929 - val_accuracy: 0.5941\n",
            "Epoch 5/100\n",
            "15/15 [==============================] - 9s 582ms/step - loss: 0.3659 - accuracy: 0.8487 - val_loss: 295.8806 - val_accuracy: 0.4851\n",
            "Epoch 6/100\n",
            "15/15 [==============================] - 9s 580ms/step - loss: 0.3880 - accuracy: 0.8468 - val_loss: 1724.4237 - val_accuracy: 0.4356\n",
            "Epoch 7/100\n",
            "15/15 [==============================] - 9s 580ms/step - loss: 0.4319 - accuracy: 0.7935 - val_loss: 1794.2845 - val_accuracy: 0.7228\n",
            "Epoch 8/100\n",
            "15/15 [==============================] - 9s 580ms/step - loss: 0.3679 - accuracy: 0.7683 - val_loss: 494.9453 - val_accuracy: 0.7921\n",
            "Epoch 9/100\n",
            "15/15 [==============================] - 9s 580ms/step - loss: 0.4880 - accuracy: 0.8500 - val_loss: 4.1360 - val_accuracy: 0.8614\n",
            "Epoch 10/100\n",
            "15/15 [==============================] - 9s 582ms/step - loss: 0.3171 - accuracy: 0.8810 - val_loss: 30.8651 - val_accuracy: 0.8119\n",
            "Epoch 11/100\n",
            "15/15 [==============================] - 9s 581ms/step - loss: 0.3182 - accuracy: 0.8638 - val_loss: 57.4899 - val_accuracy: 0.7822\n",
            "Epoch 12/100\n",
            "15/15 [==============================] - 9s 582ms/step - loss: 0.4370 - accuracy: 0.8359 - val_loss: 1.0726 - val_accuracy: 0.7525\n",
            "Epoch 13/100\n",
            "15/15 [==============================] - 9s 580ms/step - loss: 0.2841 - accuracy: 0.8588 - val_loss: 0.9971 - val_accuracy: 0.8218\n",
            "Epoch 14/100\n",
            "15/15 [==============================] - 9s 581ms/step - loss: 0.2564 - accuracy: 0.8752 - val_loss: 0.3850 - val_accuracy: 0.8416\n",
            "Epoch 15/100\n",
            "15/15 [==============================] - 9s 582ms/step - loss: 0.2732 - accuracy: 0.8628 - val_loss: 1.4857 - val_accuracy: 0.6832\n",
            "Epoch 16/100\n",
            "15/15 [==============================] - 9s 579ms/step - loss: 0.2325 - accuracy: 0.8874 - val_loss: 0.6891 - val_accuracy: 0.7426\n",
            "Epoch 17/100\n",
            "15/15 [==============================] - 9s 578ms/step - loss: 0.2136 - accuracy: 0.8875 - val_loss: 0.3894 - val_accuracy: 0.8515\n",
            "Epoch 18/100\n",
            "15/15 [==============================] - 9s 579ms/step - loss: 0.2101 - accuracy: 0.8581 - val_loss: 0.3911 - val_accuracy: 0.8911\n",
            "Epoch 19/100\n",
            "15/15 [==============================] - 9s 578ms/step - loss: 0.1536 - accuracy: 0.9213 - val_loss: 0.6718 - val_accuracy: 0.8317\n",
            "Epoch 20/100\n",
            "15/15 [==============================] - 9s 579ms/step - loss: 0.1679 - accuracy: 0.8808 - val_loss: 0.2996 - val_accuracy: 0.9010\n",
            "Epoch 21/100\n",
            "15/15 [==============================] - 9s 578ms/step - loss: 0.1792 - accuracy: 0.8631 - val_loss: 0.2119 - val_accuracy: 0.9010\n",
            "Epoch 22/100\n",
            "15/15 [==============================] - 9s 581ms/step - loss: 0.1898 - accuracy: 0.8889 - val_loss: 0.1625 - val_accuracy: 0.9208\n",
            "Epoch 23/100\n",
            "15/15 [==============================] - 9s 580ms/step - loss: 0.1383 - accuracy: 0.9519 - val_loss: 0.9164 - val_accuracy: 0.8614\n",
            "Epoch 24/100\n",
            "15/15 [==============================] - 9s 580ms/step - loss: 0.2104 - accuracy: 0.8886 - val_loss: 0.9302 - val_accuracy: 0.6634\n",
            "Epoch 25/100\n",
            "15/15 [==============================] - 9s 579ms/step - loss: 0.1747 - accuracy: 0.9040 - val_loss: 1.3196 - val_accuracy: 0.6040\n",
            "Epoch 26/100\n",
            "15/15 [==============================] - 9s 580ms/step - loss: 0.1631 - accuracy: 0.9069 - val_loss: 1.0293 - val_accuracy: 0.6436\n",
            "Epoch 27/100\n",
            "15/15 [==============================] - 9s 580ms/step - loss: 0.1434 - accuracy: 0.9115 - val_loss: 0.8062 - val_accuracy: 0.6832\n",
            "Epoch 28/100\n",
            "15/15 [==============================] - 9s 579ms/step - loss: 0.1910 - accuracy: 0.9058 - val_loss: 0.5753 - val_accuracy: 0.6634\n",
            "Epoch 29/100\n",
            "15/15 [==============================] - 9s 579ms/step - loss: 0.1542 - accuracy: 0.9116 - val_loss: 0.7388 - val_accuracy: 0.7129\n",
            "Epoch 30/100\n",
            "15/15 [==============================] - 9s 579ms/step - loss: 0.1405 - accuracy: 0.9378 - val_loss: 0.8755 - val_accuracy: 0.6931\n",
            "Epoch 31/100\n",
            "15/15 [==============================] - 9s 579ms/step - loss: 0.1354 - accuracy: 0.9069 - val_loss: 0.2193 - val_accuracy: 0.8317\n",
            "Epoch 32/100\n",
            "15/15 [==============================] - 9s 580ms/step - loss: 0.0837 - accuracy: 0.9572 - val_loss: 0.4782 - val_accuracy: 0.7426\n",
            "Epoch 33/100\n",
            "15/15 [==============================] - 9s 579ms/step - loss: 0.1241 - accuracy: 0.8987 - val_loss: 0.3433 - val_accuracy: 0.8416\n",
            "Epoch 34/100\n",
            "15/15 [==============================] - 9s 581ms/step - loss: 0.1152 - accuracy: 0.9228 - val_loss: 0.1937 - val_accuracy: 0.8713\n",
            "Epoch 35/100\n",
            "15/15 [==============================] - 9s 580ms/step - loss: 0.1128 - accuracy: 0.9111 - val_loss: 0.7307 - val_accuracy: 0.9010\n",
            "Epoch 36/100\n",
            "15/15 [==============================] - 9s 581ms/step - loss: 0.0470 - accuracy: 0.9460 - val_loss: 0.5980 - val_accuracy: 0.8713\n",
            "Epoch 37/100\n",
            "15/15 [==============================] - 9s 580ms/step - loss: 0.1262 - accuracy: 0.9357 - val_loss: 0.4539 - val_accuracy: 0.9307\n",
            "Epoch 38/100\n",
            "15/15 [==============================] - 9s 582ms/step - loss: 0.1123 - accuracy: 0.9392 - val_loss: 0.2924 - val_accuracy: 0.8614\n",
            "Epoch 39/100\n",
            "15/15 [==============================] - 9s 578ms/step - loss: 0.1367 - accuracy: 0.9036 - val_loss: 0.2394 - val_accuracy: 0.8614\n",
            "Epoch 40/100\n",
            "15/15 [==============================] - 9s 579ms/step - loss: 0.1338 - accuracy: 0.9123 - val_loss: 0.3393 - val_accuracy: 0.8812\n",
            "Epoch 41/100\n",
            "15/15 [==============================] - 9s 583ms/step - loss: 0.1154 - accuracy: 0.9157 - val_loss: 0.2298 - val_accuracy: 0.9109\n",
            "Epoch 42/100\n",
            "15/15 [==============================] - 9s 578ms/step - loss: 0.0980 - accuracy: 0.9188 - val_loss: 0.3366 - val_accuracy: 0.8713\n",
            "Epoch 43/100\n",
            "15/15 [==============================] - 9s 579ms/step - loss: 0.1325 - accuracy: 0.9241 - val_loss: 0.2570 - val_accuracy: 0.8713\n",
            "Epoch 44/100\n",
            "15/15 [==============================] - 9s 579ms/step - loss: 0.0921 - accuracy: 0.9427 - val_loss: 0.2317 - val_accuracy: 0.8812\n",
            "Epoch 45/100\n",
            "15/15 [==============================] - 9s 578ms/step - loss: 0.0806 - accuracy: 0.9308 - val_loss: 0.6113 - val_accuracy: 0.8515\n",
            "Epoch 46/100\n",
            "15/15 [==============================] - 9s 582ms/step - loss: 0.0809 - accuracy: 0.9563 - val_loss: 0.3468 - val_accuracy: 0.8713\n",
            "Epoch 47/100\n",
            "15/15 [==============================] - 9s 577ms/step - loss: 0.0407 - accuracy: 0.9565 - val_loss: 1.0721 - val_accuracy: 0.8317\n",
            "Epoch 48/100\n",
            "15/15 [==============================] - 9s 577ms/step - loss: 0.0663 - accuracy: 0.9436 - val_loss: 0.4467 - val_accuracy: 0.9208\n",
            "Epoch 49/100\n",
            "15/15 [==============================] - 9s 577ms/step - loss: 0.0932 - accuracy: 0.9640 - val_loss: 0.2317 - val_accuracy: 0.8911\n",
            "Epoch 50/100\n",
            "15/15 [==============================] - 9s 576ms/step - loss: 0.1133 - accuracy: 0.9359 - val_loss: 1.1225 - val_accuracy: 0.7327\n",
            "Epoch 51/100\n",
            "15/15 [==============================] - 9s 577ms/step - loss: 0.0895 - accuracy: 0.9367 - val_loss: 1.1617 - val_accuracy: 0.7129\n",
            "Epoch 52/100\n",
            "15/15 [==============================] - 9s 578ms/step - loss: 0.0664 - accuracy: 0.9279 - val_loss: 0.3731 - val_accuracy: 0.8416\n",
            "Epoch 53/100\n",
            "15/15 [==============================] - 9s 576ms/step - loss: 0.0651 - accuracy: 0.9670 - val_loss: 2.8228 - val_accuracy: 0.8218\n",
            "Epoch 54/100\n",
            "15/15 [==============================] - 9s 579ms/step - loss: 0.0730 - accuracy: 0.9538 - val_loss: 1.5321 - val_accuracy: 0.8713\n",
            "Epoch 55/100\n",
            "15/15 [==============================] - 9s 577ms/step - loss: 0.0665 - accuracy: 0.9400 - val_loss: 4.6004 - val_accuracy: 0.8317\n",
            "Epoch 56/100\n",
            "15/15 [==============================] - 9s 579ms/step - loss: 0.0697 - accuracy: 0.9509 - val_loss: 1.4516 - val_accuracy: 0.8218\n",
            "Epoch 57/100\n",
            "15/15 [==============================] - 9s 581ms/step - loss: 0.0630 - accuracy: 0.9330 - val_loss: 0.5941 - val_accuracy: 0.8218\n",
            "Epoch 58/100\n",
            "15/15 [==============================] - 9s 578ms/step - loss: 0.0893 - accuracy: 0.9320 - val_loss: 0.4496 - val_accuracy: 0.8218\n",
            "Epoch 59/100\n",
            "15/15 [==============================] - 9s 578ms/step - loss: 0.0901 - accuracy: 0.9209 - val_loss: 0.4700 - val_accuracy: 0.8119\n",
            "Epoch 60/100\n",
            "15/15 [==============================] - 9s 579ms/step - loss: 0.0418 - accuracy: 0.9524 - val_loss: 0.4536 - val_accuracy: 0.8713\n",
            "Epoch 61/100\n",
            "15/15 [==============================] - 9s 581ms/step - loss: 0.1278 - accuracy: 0.9243 - val_loss: 1.2443 - val_accuracy: 0.8218\n",
            "Epoch 62/100\n",
            "15/15 [==============================] - 9s 580ms/step - loss: 0.0965 - accuracy: 0.9375 - val_loss: 0.4305 - val_accuracy: 0.8416\n",
            "Epoch 63/100\n",
            "15/15 [==============================] - 9s 579ms/step - loss: 0.0657 - accuracy: 0.9164 - val_loss: 0.4302 - val_accuracy: 0.8614\n",
            "Epoch 64/100\n",
            "15/15 [==============================] - 9s 579ms/step - loss: 0.0225 - accuracy: 0.9464 - val_loss: 0.2804 - val_accuracy: 0.8713\n",
            "Epoch 65/100\n",
            "15/15 [==============================] - 9s 580ms/step - loss: 0.0578 - accuracy: 0.9524 - val_loss: 0.3667 - val_accuracy: 0.9406\n",
            "Epoch 66/100\n",
            "15/15 [==============================] - 9s 578ms/step - loss: 0.0280 - accuracy: 0.9675 - val_loss: 0.3326 - val_accuracy: 0.9010\n",
            "Epoch 67/100\n",
            "15/15 [==============================] - 9s 579ms/step - loss: 0.0572 - accuracy: 0.9503 - val_loss: 0.3662 - val_accuracy: 0.8218\n",
            "Epoch 68/100\n",
            "15/15 [==============================] - 9s 585ms/step - loss: 0.0240 - accuracy: 0.9346 - val_loss: 0.3780 - val_accuracy: 0.8812\n",
            "Epoch 69/100\n",
            "15/15 [==============================] - 9s 583ms/step - loss: 0.0615 - accuracy: 0.9653 - val_loss: 0.3220 - val_accuracy: 0.8812\n",
            "Epoch 70/100\n",
            "15/15 [==============================] - 9s 580ms/step - loss: 0.1359 - accuracy: 0.9153 - val_loss: 0.3911 - val_accuracy: 0.8911\n",
            "Epoch 71/100\n",
            "15/15 [==============================] - 9s 581ms/step - loss: 0.0848 - accuracy: 0.9306 - val_loss: 0.9833 - val_accuracy: 0.8416\n",
            "Epoch 72/100\n",
            "15/15 [==============================] - 9s 578ms/step - loss: 0.0589 - accuracy: 0.9507 - val_loss: 0.5120 - val_accuracy: 0.9109\n",
            "Epoch 73/100\n",
            "15/15 [==============================] - 9s 578ms/step - loss: 0.0227 - accuracy: 0.9706 - val_loss: 0.5892 - val_accuracy: 0.8911\n",
            "Epoch 74/100\n",
            "15/15 [==============================] - 9s 578ms/step - loss: 0.0149 - accuracy: 0.9531 - val_loss: 0.3691 - val_accuracy: 0.8713\n",
            "Epoch 75/100\n",
            "15/15 [==============================] - 9s 583ms/step - loss: 0.0422 - accuracy: 0.9567 - val_loss: 0.5487 - val_accuracy: 0.8416\n",
            "Epoch 76/100\n",
            "15/15 [==============================] - 9s 578ms/step - loss: 0.0334 - accuracy: 0.9441 - val_loss: 0.6087 - val_accuracy: 0.8020\n",
            "Epoch 77/100\n",
            "15/15 [==============================] - 9s 580ms/step - loss: 0.0663 - accuracy: 0.9322 - val_loss: 0.3723 - val_accuracy: 0.8416\n",
            "Epoch 78/100\n",
            "15/15 [==============================] - 9s 580ms/step - loss: 0.0432 - accuracy: 0.9466 - val_loss: 0.4566 - val_accuracy: 0.9109\n",
            "Epoch 79/100\n",
            "15/15 [==============================] - 9s 584ms/step - loss: 0.0508 - accuracy: 0.9457 - val_loss: 1.4734 - val_accuracy: 0.7327\n",
            "Epoch 80/100\n",
            "15/15 [==============================] - 9s 584ms/step - loss: 0.0696 - accuracy: 0.9218 - val_loss: 0.2235 - val_accuracy: 0.8515\n",
            "Epoch 81/100\n",
            "15/15 [==============================] - 9s 580ms/step - loss: 0.1179 - accuracy: 0.8983 - val_loss: 0.5688 - val_accuracy: 0.8515\n",
            "Epoch 82/100\n",
            "15/15 [==============================] - 9s 581ms/step - loss: 0.0545 - accuracy: 0.9264 - val_loss: 0.3894 - val_accuracy: 0.8317\n",
            "Epoch 83/100\n",
            "15/15 [==============================] - 9s 580ms/step - loss: 0.0158 - accuracy: 0.9290 - val_loss: 0.3107 - val_accuracy: 0.8317\n",
            "Epoch 84/100\n",
            "15/15 [==============================] - 9s 580ms/step - loss: 0.0297 - accuracy: 0.9180 - val_loss: 0.5417 - val_accuracy: 0.8614\n",
            "Epoch 85/100\n",
            "15/15 [==============================] - 9s 579ms/step - loss: 0.0069 - accuracy: 0.9255 - val_loss: 0.3874 - val_accuracy: 0.8416\n",
            "Epoch 86/100\n",
            "15/15 [==============================] - 9s 580ms/step - loss: 0.0144 - accuracy: 0.9234 - val_loss: 0.3524 - val_accuracy: 0.8317\n",
            "Epoch 87/100\n",
            "15/15 [==============================] - 9s 581ms/step - loss: 0.0088 - accuracy: 0.9460 - val_loss: 0.3375 - val_accuracy: 0.8515\n",
            "Epoch 88/100\n",
            "15/15 [==============================] - 9s 582ms/step - loss: 0.0423 - accuracy: 0.9105 - val_loss: 0.2995 - val_accuracy: 0.8416\n",
            "Epoch 89/100\n",
            "15/15 [==============================] - 9s 580ms/step - loss: 0.0295 - accuracy: 0.9036 - val_loss: 0.2835 - val_accuracy: 0.8614\n",
            "Epoch 90/100\n",
            "15/15 [==============================] - 9s 580ms/step - loss: 0.0606 - accuracy: 0.9303 - val_loss: 0.4383 - val_accuracy: 0.7921\n",
            "Epoch 91/100\n",
            "15/15 [==============================] - 9s 580ms/step - loss: 0.0539 - accuracy: 0.8709 - val_loss: 0.4398 - val_accuracy: 0.8416\n",
            "Epoch 92/100\n",
            "15/15 [==============================] - 9s 579ms/step - loss: 0.0347 - accuracy: 0.8970 - val_loss: 0.5284 - val_accuracy: 0.7921\n",
            "Epoch 93/100\n",
            "15/15 [==============================] - 9s 577ms/step - loss: 0.0299 - accuracy: 0.9359 - val_loss: 0.8851 - val_accuracy: 0.7129\n",
            "Epoch 94/100\n",
            "15/15 [==============================] - 9s 578ms/step - loss: 0.0189 - accuracy: 0.9266 - val_loss: 0.4281 - val_accuracy: 0.7921\n",
            "Epoch 95/100\n",
            "15/15 [==============================] - 9s 578ms/step - loss: 0.0173 - accuracy: 0.9571 - val_loss: 0.4052 - val_accuracy: 0.8515\n",
            "Epoch 96/100\n",
            "15/15 [==============================] - 9s 578ms/step - loss: 0.0217 - accuracy: 0.9482 - val_loss: 0.7426 - val_accuracy: 0.8614\n",
            "Epoch 97/100\n",
            "15/15 [==============================] - 9s 578ms/step - loss: 0.0298 - accuracy: 0.9681 - val_loss: 0.1739 - val_accuracy: 0.9010\n",
            "Epoch 98/100\n",
            "15/15 [==============================] - 9s 578ms/step - loss: 0.0257 - accuracy: 0.9334 - val_loss: 0.1827 - val_accuracy: 0.8812\n",
            "Epoch 99/100\n",
            "15/15 [==============================] - 9s 577ms/step - loss: 0.0295 - accuracy: 0.9289 - val_loss: 0.2402 - val_accuracy: 0.8416\n",
            "Epoch 100/100\n",
            "15/15 [==============================] - 9s 577ms/step - loss: 0.0192 - accuracy: 0.9211 - val_loss: 0.3097 - val_accuracy: 0.8515\n"
          ],
          "name": "stdout"
        },
        {
          "output_type": "execute_result",
          "data": {
            "text/plain": [
              "<keras.callbacks.History at 0x7f77e515c310>"
            ]
          },
          "metadata": {
            "tags": []
          },
          "execution_count": 19
        }
      ]
    },
    {
      "cell_type": "code",
      "metadata": {
        "id": "wI8Do6Xm4yTb",
        "colab": {
          "base_uri": "https://localhost:8080/"
        },
        "outputId": "626e287f-5ecd-45bd-e88c-635c1ee8004a"
      },
      "source": [
        "model.evaluate(arr_inputs_float_test, arr_inputs_float_test_targets)"
      ],
      "execution_count": null,
      "outputs": [
        {
          "output_type": "stream",
          "text": [
            "3/3 [==============================] - 0s 42ms/step - loss: 0.1851 - accuracy: 0.9459\n"
          ],
          "name": "stdout"
        },
        {
          "output_type": "execute_result",
          "data": {
            "text/plain": [
              "[0.18508212268352509, 0.9459459185600281]"
            ]
          },
          "metadata": {
            "tags": []
          },
          "execution_count": 21
        }
      ]
    },
    {
      "cell_type": "code",
      "metadata": {
        "id": "ss6wJ87AJQnH",
        "colab": {
          "base_uri": "https://localhost:8080/"
        },
        "outputId": "fabda008-a762-4290-f51b-cbc13c34e2cd"
      },
      "source": [
        "predictions=model(arr_inputs_float_test)\n",
        "\n",
        "counter=0\n",
        "for i in range(len(targets_test)):\n",
        "  if targets_test[i][0]==1 and 0.5< predictions[i][0] and targets_test[i][1]==1 and 0.5< predictions[i][1]:  #[1,1]\n",
        "    counter+=1\n",
        "  if targets_test[i][0]==1 and 0.5< predictions[i][0] and targets_test[i][1]==0 and 0.5> predictions[i][1]:   #[1,0]\n",
        "    counter+=1\n",
        "  if targets_test[i][0]==0 and 0.5> predictions[i][0] and targets_test[i][1]==1 and 0.5< predictions[i][1]:    #[0,1]\n",
        "    counter+=1\n",
        "  if targets_test[i][0]==0 and 0.5> predictions[i][0] and targets_test[i][1]==0 and 0.5> predictions[i][1]:    #[0,0]\n",
        "    counter+=1\n",
        "\n",
        "\n",
        "print(counter/len(targets_test))\n"
      ],
      "execution_count": null,
      "outputs": [
        {
          "output_type": "stream",
          "text": [
            "0.9459459459459459\n"
          ],
          "name": "stdout"
        }
      ]
    },
    {
      "cell_type": "markdown",
      "metadata": {
        "id": "GuFkeT_kGqFH"
      },
      "source": [
        "RESNET 9"
      ]
    },
    {
      "cell_type": "code",
      "metadata": {
        "colab": {
          "base_uri": "https://localhost:8080/"
        },
        "id": "QUZvENSv5D9t",
        "outputId": "0a77ffb1-269d-429c-9a91-93beaa9970e5"
      },
      "source": [
        "datadir=\"/content/train/\" \n",
        "train_categories=['horse_train/', 'dolphin_train/', 'dolphin_horse_train/']\n",
        "\n",
        "dataset_train=[]\n",
        "def create_train_data():\n",
        "  for category in train_categories:\n",
        "    path_train=os.path.join(datadir, category)\n",
        "    if category==\"horse_train/\":\n",
        "      class_num_train=[1,0]\n",
        "    if category==\"dolphin_train/\":\n",
        "      class_num_train=[0,1]\n",
        "    if category==\"dolphin_horse_train/\":\n",
        "      class_num_train=[1,1]\n",
        "    for img in os.listdir(path_train):  \n",
        "      try:\n",
        "        img_array=cv2.imread(os.path.join(path_train, img))#, cv2.IMREAD_GRAYSCALE)\n",
        "        new_array=cv2.resize(img_array, (128, 128)) \n",
        "        new_array1=new_array/255 \n",
        "        #scaling=StandardScaler()\n",
        "        #new_array1=scaling.fit_transform(new_array.reshape(-1, new_array.shape[-1])).reshape(new_array)\n",
        "        dataset_train.append([new_array1, class_num_train]) \n",
        "        #image2 = np.expand_dims(new_array, axis=0)\n",
        "        #aug_image=gen.flow(image2) \n",
        "        #dataset_train.append([next(aug_image)[0], class_num_train])\n",
        "      except Exception as e:\n",
        "        print(e)\n",
        "\n",
        "create_train_data()\n",
        "\n",
        "import random\n",
        "random.shuffle(dataset_train)\n",
        "\n",
        "inputs_train=[]\n",
        "targets_train=[]\n",
        "\n",
        "for image, label in dataset_train:\n",
        "  inputs_train.append(image)\n",
        "  targets_train.append(label)\n",
        "\n",
        "#---creating np array from the input images\n",
        "arr_inputs_train = np.array(inputs_train)\n",
        "arr_inputs_float_train=arr_inputs_train.astype('float32')\n",
        "\n",
        "\n",
        "arr_inputs_train_targets = np.array(targets_train)\n",
        "arr_inputs_float_train_targets=arr_inputs_train_targets.astype('float32')\n",
        "\n",
        "\n",
        "\n",
        "\n",
        "datadir=\"/content/valid/\" \n",
        "valid_categories=['horse_valid/', 'dolphin_valid/', 'dolphin_horse_valid/']\n",
        "\n",
        "dataset_valid=[]\n",
        "def create_validation_data():\n",
        "  for category in valid_categories:\n",
        "    path_valid=os.path.join(datadir, category)\n",
        "    if category==\"horse_valid/\":\n",
        "      class_num_valid=[1,0]\n",
        "    if category==\"dolphin_valid/\":\n",
        "      class_num_valid=[0,1]\n",
        "    if category==\"dolphin_horse_valid/\":\n",
        "      class_num_valid=[1,1]\n",
        "    for img in os.listdir(path_valid):  \n",
        "      try:\n",
        "        img_array=cv2.imread(os.path.join(path_valid, img))#, cv2.IMREAD_GRAYSCALE)\n",
        "        new_array=cv2.resize(img_array, (128, 128))\n",
        "        new_array1=new_array/255 \n",
        "        #scaling=StandardScaler()\n",
        "        #new_array1=scaling.fit_transform(new_array.reshape(-1, new_array.shape[-1])).reshape(new_array)\n",
        "        dataset_valid.append([new_array1, class_num_valid])  \n",
        "        #image2 = np.expand_dims(new_array, axis=0)\n",
        "        #aug_image=gen.flow(image2) \n",
        "        #dataset_valid.append([next(aug_image)[0], class_num_valid])\n",
        "      except Exception as e:\n",
        "        print(e)\n",
        "\n",
        "create_validation_data()\n",
        "\n",
        "import random\n",
        "random.shuffle(dataset_valid)\n",
        "\n",
        "inputs_val=[]\n",
        "targets_val=[]\n",
        "\n",
        "for image, label in dataset_valid:\n",
        "  inputs_val.append(image)\n",
        "  targets_val.append(label)\n",
        "\n",
        "#---creating np array from the input images\n",
        "arr_inputs_val = np.array(inputs_val)\n",
        "arr_inputs_float_val=arr_inputs_val.astype('float32')\n",
        "\n",
        "arr_inputs_val_targets = np.array(targets_val)\n",
        "arr_inputs_float_val_targets=arr_inputs_val_targets.astype('float32')\n",
        "\n",
        "\n",
        "datadir=\"/content/test/\" \n",
        "test_categories=['HorseTest/', 'DolphinTest/', 'DolphinHorseTest/']\n",
        "\n",
        "dataset_test=[]\n",
        "def create_test_data():\n",
        "  for category in test_categories:\n",
        "    path_test=os.path.join(datadir, category)\n",
        "    if category==\"HorseTest/\":\n",
        "      class_num_test=[1,0]\n",
        "    if category==\"DolphinTest/\":\n",
        "      class_num_test=[0,1]\n",
        "    if category==\"DolphinHorseTest/\":\n",
        "      class_num_test=[1,1]\n",
        "    for img in os.listdir(path_test):  \n",
        "      try:\n",
        "        img_array=cv2.imread(os.path.join(path_test, img))#, cv2.IMREAD_GRAYSCALE)\n",
        "        new_array=cv2.resize(img_array, (128, 128)) \n",
        "        new_array1=new_array/255 \n",
        "        #scaling=StandardScaler()\n",
        "        #scalers = {}\n",
        "        #new_array1=scaling.fit_transform(new_array.reshape(-1, new_array.shape[-1])).reshape(new_array)\n",
        "        dataset_test.append([new_array1, class_num_test])\n",
        "        #image2 = np.expand_dims(new_array, axis=0)\n",
        "        #aug_image=gen.flow(image2) \n",
        "        #dataset_test.append([next(aug_image)[0], class_num_test])\n",
        "      except Exception as e:\n",
        "        print(e)\n",
        "\n",
        "create_test_data()\n",
        "\n",
        "import random\n",
        "random.shuffle(dataset_test)\n",
        "\n",
        "inputs_test=[]\n",
        "targets_test=[]\n",
        "\n",
        "for image, label in dataset_test:\n",
        "  inputs_test.append(image)\n",
        "  targets_test.append(label)\n",
        "\n",
        "#---creating np array from the input images\n",
        "arr_inputs_test = np.array(inputs_test)\n",
        "arr_inputs_float_test=arr_inputs_test.astype('float32')\n",
        "\n",
        "arr_inputs_test_targets = np.array(targets_test)\n",
        "arr_inputs_float_test_targets=arr_inputs_test_targets.astype('float32')"
      ],
      "execution_count": null,
      "outputs": [
        {
          "output_type": "stream",
          "text": [
            "OpenCV(4.1.2) /io/opencv/modules/imgproc/src/resize.cpp:3720: error: (-215:Assertion failed) !ssize.empty() in function 'resize'\n",
            "\n",
            "OpenCV(4.1.2) /io/opencv/modules/imgproc/src/resize.cpp:3720: error: (-215:Assertion failed) !ssize.empty() in function 'resize'\n",
            "\n",
            "OpenCV(4.1.2) /io/opencv/modules/imgproc/src/resize.cpp:3720: error: (-215:Assertion failed) !ssize.empty() in function 'resize'\n",
            "\n"
          ],
          "name": "stdout"
        }
      ]
    },
    {
      "cell_type": "code",
      "metadata": {
        "id": "AqVuHEzHGouY"
      },
      "source": [
        "\n",
        "\n",
        "def convolutional_block(X, F1):\n",
        "    X = Conv2D(F1, (3, 3), strides = (1,1), padding='same')(X) \n",
        "    X = BatchNormalization(axis = 3)(X)  \n",
        "    X = Activation('relu')(X)\n",
        "    return X\n",
        "\n",
        "\n",
        "\n",
        "\n",
        "\n",
        "def ResNet9(input_shape=(128, 128, 3), classes=2):\n",
        "  X_input = Input(input_shape)\n",
        "  X = convolutional_block(X_input, 64)\n",
        "  X = MaxPooling2D((2, 2))(X)                   #   64 x 64 x 64\n",
        "  X = convolutional_block(X, 128) \n",
        "  X = MaxPooling2D((2, 2))(X)                 # 128 x 32 x 32\n",
        "  X = convolutional_block(X, 128)\n",
        "  X = Add()([X, convolutional_block(X, 128)])\n",
        "  X = convolutional_block(X, 256)\n",
        "  X = MaxPooling2D((2, 2))(X)                # 256 x 16 x 16\n",
        "  X = convolutional_block(X, 512)\n",
        "  X = MaxPooling2D((2, 2))(X)         # 512 x 8 x 8\n",
        "  X = convolutional_block(X, 512)\n",
        "  X = Add()([X, convolutional_block(X, 512)])\n",
        "  X = MaxPooling2D((2, 2))(X)                             #  4 x 4\n",
        "  X = MaxPooling2D((4, 4))(X)   \n",
        "\n",
        "  # output layer\n",
        "  X = Flatten()(X)\n",
        "  X=tf.keras.layers.Dropout(0.2)(X)\n",
        "  #X=Dropout(0.2)(X)\n",
        "  X=Dense(1024, activation='relu')(X)\n",
        "  X=Dense(512, activation='relu')(X)\n",
        "  X = Dense(classes, activation='sigmoid')(X)\n",
        "\n",
        "\n",
        "  # Create model\n",
        "  model = Model(inputs = X_input, outputs = X, name='ResNet9')\n",
        "\n",
        "  return model\n",
        "\n"
      ],
      "execution_count": null,
      "outputs": []
    },
    {
      "cell_type": "code",
      "metadata": {
        "id": "XqIQ89qSGnu1"
      },
      "source": [
        "model = ResNet9(input_shape = (128, 128, 3), classes = 2)"
      ],
      "execution_count": null,
      "outputs": []
    },
    {
      "cell_type": "code",
      "metadata": {
        "colab": {
          "base_uri": "https://localhost:8080/"
        },
        "id": "lG4tz-uV8D3T",
        "outputId": "455a0b3c-4d7d-47d9-9149-5fa96c80d971"
      },
      "source": [
        "optim = keras.optimizers.Adam(lr=0.001)\n",
        "model.compile(optimizer=optim, loss='BinaryCrossentropy', metrics=['accuracy'])\n",
        "\n",
        "\n",
        "model.fit(arr_inputs_float_train, arr_inputs_float_train_targets,\n",
        "          validation_data=(arr_inputs_float_val, arr_inputs_float_val_targets),\n",
        "          epochs = 10, batch_size = 64)\n"
      ],
      "execution_count": null,
      "outputs": [
        {
          "output_type": "stream",
          "text": [
            "Epoch 1/10\n",
            "8/8 [==============================] - 2s 174ms/step - loss: 1.7612e-05 - accuracy: 0.9300 - val_loss: 0.4974 - val_accuracy: 0.8218\n",
            "Epoch 2/10\n",
            "8/8 [==============================] - 1s 138ms/step - loss: 1.1369e-05 - accuracy: 0.8979 - val_loss: 0.9401 - val_accuracy: 0.8218\n",
            "Epoch 3/10\n",
            "8/8 [==============================] - 1s 138ms/step - loss: 0.0038 - accuracy: 0.9156 - val_loss: 1.4013 - val_accuracy: 0.7921\n",
            "Epoch 4/10\n",
            "8/8 [==============================] - 1s 138ms/step - loss: 0.0240 - accuracy: 0.9464 - val_loss: 1.0054 - val_accuracy: 0.7921\n",
            "Epoch 5/10\n",
            "8/8 [==============================] - 1s 139ms/step - loss: 0.0148 - accuracy: 0.9118 - val_loss: 0.8221 - val_accuracy: 0.8020\n",
            "Epoch 6/10\n",
            "8/8 [==============================] - 1s 139ms/step - loss: 0.0201 - accuracy: 0.9070 - val_loss: 0.7080 - val_accuracy: 0.8812\n",
            "Epoch 7/10\n",
            "8/8 [==============================] - 1s 138ms/step - loss: 0.0452 - accuracy: 0.9550 - val_loss: 1.7493 - val_accuracy: 0.7822\n",
            "Epoch 8/10\n",
            "8/8 [==============================] - 1s 137ms/step - loss: 0.1160 - accuracy: 0.8973 - val_loss: 0.6351 - val_accuracy: 0.7921\n",
            "Epoch 9/10\n",
            "8/8 [==============================] - 1s 138ms/step - loss: 0.0024 - accuracy: 0.9088 - val_loss: 0.8002 - val_accuracy: 0.8416\n",
            "Epoch 10/10\n",
            "8/8 [==============================] - 1s 139ms/step - loss: 0.0040 - accuracy: 0.9075 - val_loss: 0.6147 - val_accuracy: 0.8416\n"
          ],
          "name": "stdout"
        },
        {
          "output_type": "execute_result",
          "data": {
            "text/plain": [
              "<tensorflow.python.keras.callbacks.History at 0x7f9417c49610>"
            ]
          },
          "metadata": {
            "tags": []
          },
          "execution_count": 31
        }
      ]
    },
    {
      "cell_type": "code",
      "metadata": {
        "colab": {
          "base_uri": "https://localhost:8080/"
        },
        "id": "fsfbYPV96tYS",
        "outputId": "105e2a2c-48fe-4de9-fbeb-aac65d55ee3d"
      },
      "source": [
        "model.evaluate(arr_inputs_float_test, arr_inputs_float_test_targets)"
      ],
      "execution_count": null,
      "outputs": [
        {
          "output_type": "stream",
          "text": [
            "3/3 [==============================] - 1s 188ms/step - loss: 0.3249 - accuracy: 0.9324\n"
          ],
          "name": "stdout"
        },
        {
          "output_type": "execute_result",
          "data": {
            "text/plain": [
              "[0.3249107897281647, 0.9324324131011963]"
            ]
          },
          "metadata": {
            "tags": []
          },
          "execution_count": 15
        }
      ]
    },
    {
      "cell_type": "code",
      "metadata": {
        "colab": {
          "base_uri": "https://localhost:8080/"
        },
        "id": "SoAwOF8Z6zPO",
        "outputId": "f5a15203-702b-49d8-be3f-bb006d2825d3"
      },
      "source": [
        "predictions=model(arr_inputs_float_test)\n",
        "\n",
        "counter=0\n",
        "for i in range(len(targets_test)):\n",
        "  if targets_test[i][0]==1 and 0.5< predictions[i][0] and targets_test[i][1]==1 and 0.5< predictions[i][1]:  #[1,1]\n",
        "    counter+=1\n",
        "  if targets_test[i][0]==1 and 0.5< predictions[i][0] and targets_test[i][1]==0 and 0.5> predictions[i][1]:   #[1,0]\n",
        "    counter+=1\n",
        "  if targets_test[i][0]==0 and 0.5> predictions[i][0] and targets_test[i][1]==1 and 0.5< predictions[i][1]:    #[0,1]\n",
        "    counter+=1\n",
        "  if targets_test[i][0]==0 and 0.5> predictions[i][0] and targets_test[i][1]==0 and 0.5> predictions[i][1]:    #[0,0]\n",
        "    counter+=1\n",
        "\n",
        "\n",
        "print(counter/len(targets_test))"
      ],
      "execution_count": null,
      "outputs": [
        {
          "output_type": "stream",
          "text": [
            "0.9324324324324325\n"
          ],
          "name": "stdout"
        }
      ]
    }
  ]
}