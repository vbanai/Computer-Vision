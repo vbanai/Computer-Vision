{
  "nbformat": 4,
  "nbformat_minor": 0,
  "metadata": {
    "accelerator": "GPU",
    "colab": {
      "name": "Pyt/tfseq (0,1) multilabel_sigm_horse_dolphin.ipynb",
      "provenance": [],
      "authorship_tag": "ABX9TyN+3Vt1RItwCMzv354fuE1k",
      "include_colab_link": true
    },
    "kernelspec": {
      "display_name": "Python 3",
      "name": "python3"
    },
    "language_info": {
      "name": "python"
    }
  },
  "cells": [
    {
      "cell_type": "markdown",
      "metadata": {
        "id": "view-in-github",
        "colab_type": "text"
      },
      "source": [
        "<a href=\"https://colab.research.google.com/github/vbanai/Multi-label-classification_Models_Pytorch-Conv2DandResnet9_Tensorflow_DNNandCNN/blob/main/Pyt_tfseq_(0%2C1)_multilabel_sigm_horse_dolphin.ipynb\" target=\"_parent\"><img src=\"https://colab.research.google.com/assets/colab-badge.svg\" alt=\"Open In Colab\"/></a>"
      ]
    },
    {
      "cell_type": "markdown",
      "metadata": {
        "id": "jwswc1wRFVsl"
      },
      "source": [
        "--------------PYTORCH MODELS---------------"
      ]
    },
    {
      "cell_type": "code",
      "metadata": {
        "id": "S_rFXed6RUr5"
      },
      "source": [
        "# -------------   HORSE/DOLPHIN EXECRCISE WITH SIGMOID FUNCTION (MULTILABEL)----------------\n",
        "#-----------------FIRST APPROACH WITH NORMAL CONV2D ARCHITECTURE (1200 epoch is needed for 95% accuracy and\n",
        "#                 approx after 1200 epoch I experienced overfitting)----------------\n",
        "\n",
        "import os\n",
        "import torch\n",
        "import torchvision\n",
        "import tarfile\n",
        "from torchvision.datasets.utils import download_url\n",
        "from torch.utils.data import random_split\n",
        "from google.colab import files\n",
        "import matplotlib.pyplot as plt\n",
        "from torch.utils.data.dataloader import DataLoader\n",
        "import cv2\n",
        "from torchvision.datasets import MNIST\n",
        "import torch.nn.functional as F\n",
        "import torchvision.transforms as transforms\n",
        "import numpy as np\n",
        "from torch.utils.data import Dataset, DataLoader, TensorDataset, random_split\n",
        "import torch.nn as nn\n",
        "from PIL import Image\n",
        "from torchvision.transforms import ToTensor\n",
        "import numpy as np\n",
        "from torchvision.datasets import ImageFolder\n",
        "import pandas as pd"
      ],
      "execution_count": null,
      "outputs": []
    },
    {
      "cell_type": "code",
      "metadata": {
        "id": "69QPSJc0At7Q"
      },
      "source": [
        "\n",
        "#stats = ((0.4914, 0.4822, 0.4465), (0.2023, 0.1994, 0.2010))\n",
        "#train_tfms = transforms.Compose([transforms.RandomCrop(32, padding=4, padding_mode='reflect'),\n",
        " #                        transforms.Resize((128, 128)),\n",
        "  #                       transforms.RandomHorizontalFlip(), \n",
        "                         # tt.RandomRotate\n",
        "                         # tt.RandomResizedCrop(256, scale=(0.5,0.9), ratio=(1, 1)), \n",
        "                         # tt.ColorJitter(brightness=0.1, contrast=0.1, saturation=0.1, hue=0.1),\n",
        "   #                      transforms.ToTensor(), \n",
        "    #                     transforms.Normalize(*stats,inplace=True)])\n",
        "\n",
        "#ds=ImageFolder(\"/content/horse\", train_tfms)"
      ],
      "execution_count": null,
      "outputs": []
    },
    {
      "cell_type": "code",
      "metadata": {
        "colab": {
          "base_uri": "https://localhost:8080/"
        },
        "id": "8PjvYA_EBVpt",
        "outputId": "7a1bd01b-5e22-4428-f925-de51826d1ef1"
      },
      "source": [
        "from google.colab import drive\n",
        "drive.mount(\"/content/drive\", force_remount=True)"
      ],
      "execution_count": null,
      "outputs": [
        {
          "output_type": "stream",
          "text": [
            "Mounted at /content/drive\n"
          ],
          "name": "stdout"
        }
      ]
    },
    {
      "cell_type": "code",
      "metadata": {
        "id": "TIOkkdseYFsl"
      },
      "source": [
        "#!rm -rf \"/content/train\"\n",
        "#!rm -rf \"/content/valid\""
      ],
      "execution_count": null,
      "outputs": []
    },
    {
      "cell_type": "code",
      "metadata": {
        "id": "JVvDJMD4VYRX"
      },
      "source": [
        "path=\".\"\n",
        "os.chdir(path)\n",
        "os.makedirs(\"train\")\n",
        "os.makedirs(\"valid\")\n",
        "os.makedirs(\"test\")\n",
        "\n",
        "path=\"./train\"\n",
        "os.chdir(path)\n",
        "os.makedirs(\"horse\")\n",
        "os.makedirs(\"dolphin\")\n",
        "os.makedirs(\"dolphin_horse\")\n",
        "\n",
        "path=\"/content/valid\"\n",
        "os.chdir(path)\n",
        "os.makedirs(\"horse\")\n",
        "os.makedirs(\"dolphin\")\n",
        "os.makedirs(\"dolphin_horse\")\n",
        "\n",
        "path=\"/content/test\"\n",
        "os.chdir(path)\n",
        "os.makedirs(\"horse\")\n",
        "os.makedirs(\"dolphin\")\n",
        "os.makedirs(\"dolphin_horse\")\n",
        "\n",
        "!pip install pyunpack\n",
        "!pip install patool\n",
        "from pyunpack import Archive\n",
        "Archive('/content/drive/MyDrive/dolphin_train.rar').extractall('/content/train/dolphin/')\n",
        "Archive('/content/drive/MyDrive/horse_train.rar').extractall('/content/train/horse/')\n",
        "Archive(\"/content/drive/MyDrive/dolphin_horse_train.rar\").extractall('/content/train/dolphin_horse/')\n",
        "Archive('/content/drive/MyDrive/horse_valid.rar').extractall('/content/valid/horse/')\n",
        "Archive('/content/drive/MyDrive/dolphin_valid.rar').extractall('/content/valid/dolphin/')\n",
        "Archive('/content/drive/MyDrive/dolphin_horse_valid.rar').extractall('/content/valid/dolphin_horse/')\n",
        "Archive('/content/drive/MyDrive/DolphinTest.rar').extractall('/content/test/dolphin/')\n",
        "Archive('/content/drive/MyDrive/HorseTest.rar').extractall('/content/test/horse/')\n",
        "Archive(\"/content/drive/MyDrive/DolphinHorseTest.rar\").extractall('/content/test/dolphin_horse/')\n"
      ],
      "execution_count": null,
      "outputs": []
    },
    {
      "cell_type": "code",
      "metadata": {
        "colab": {
          "base_uri": "https://localhost:8080/"
        },
        "id": "lvNUnh31kpUc",
        "outputId": "853fa690-873a-4fc9-91b0-85ad17569fda"
      },
      "source": [
        "len(os.listdir(\"/content/valid/horse/horse_valid\"))"
      ],
      "execution_count": null,
      "outputs": [
        {
          "output_type": "execute_result",
          "data": {
            "text/plain": [
              "41"
            ]
          },
          "metadata": {
            "tags": []
          },
          "execution_count": 25
        }
      ]
    },
    {
      "cell_type": "code",
      "metadata": {
        "id": "dzS5AARfRoHJ"
      },
      "source": [
        "#----------TRAINING DATASET CREATION (originaly 465 images in the folders - 209 pcs Horse, 210 pcs Dolphin, 46 pcs Horse&Dolphin)-------------------------------\n",
        "\n",
        "datadir=\"/content/train/\" \n",
        "train_categories=['horse/horse_train/', 'dolphin/dolphin_train/', 'dolphin_horse/dolphin_horse_train/']\n",
        "\n",
        "dataset_train=[]\n",
        "def create_train_data():\n",
        "  for category in train_categories:\n",
        "    path_train=os.path.join(datadir, category)\n",
        "    if category==\"horse/horse_train/\":\n",
        "      class_num_train=[1,0]\n",
        "    if category==\"dolphin/dolphin_train/\":\n",
        "      class_num_train=[0,1]\n",
        "    if category==\"dolphin_horse/dolphin_horse_train/\":\n",
        "      class_num_train=[1,1]\n",
        "    for img in os.listdir(path_train):  \n",
        "      try:\n",
        "        img_array=cv2.imread(os.path.join(path_train, img))#, cv2.IMREAD_GRAYSCALE)\n",
        "        new_array=cv2.resize(img_array, (64, 64))  \n",
        "        new_array1=new_array/255 \n",
        "        dataset_train.append([new_array1, class_num_train])\n",
        "      except Exception as e:\n",
        "        print(e)\n",
        "\n",
        "create_train_data()\n",
        "\n",
        "import random\n",
        "random.shuffle(dataset_train)\n",
        "\n",
        "inputs_train=[]\n",
        "targets_train=[]\n",
        "\n",
        "for image, label in dataset_train:\n",
        "  inputs_train.append(image)\n",
        "  targets_train.append(label)\n",
        "\n",
        "#---creating np array from the input images\n",
        "arr_inputs_train = np.array(inputs_train)\n",
        "arr_inputs_float_train=arr_inputs_train.astype('float32')\n",
        "\n",
        "\n",
        "#---convert np array of the input images to tensors-----\n",
        "arr_tensor_train = [torch.from_numpy(item).float() for item in arr_inputs_float_train]\n",
        "arr_stack_train=torch.stack(arr_tensor_train)\n",
        "\n",
        "#--- reshape the input images tensor\n",
        "arr_stack_train_reshape=arr_stack_train.reshape(-1,3,64,64) \n",
        "targets_torch_train=torch.tensor(targets_train, dtype=torch.float32)\n",
        "\n"
      ],
      "execution_count": null,
      "outputs": []
    },
    {
      "cell_type": "code",
      "metadata": {
        "id": "1JvOLA81egui"
      },
      "source": [
        "#----------------VALIDATION DATASET CREATION (101 images in the folders, 41 horse, 41 dolphin, 19 dolphin & horse)---------------\n",
        "\n",
        "datadir=\"/content/valid/\" \n",
        "valid_categories=['horse/horse_valid/', 'dolphin/dolphin_valid/', 'dolphin_horse/dolphin_horse_valid/']\n",
        "\n",
        "dataset_valid=[]\n",
        "def create_validation_data():\n",
        "  for category in valid_categories:\n",
        "    path_valid=os.path.join(datadir, category)\n",
        "    if category==\"horse/horse_valid/\":\n",
        "      class_num_valid=[1,0]\n",
        "    if category==\"dolphin/dolphin_valid/\":\n",
        "      class_num_valid=[0,1]\n",
        "    if category==\"dolphin_horse/dolphin_horse_valid/\":\n",
        "      class_num_valid=[1,1]\n",
        "    for img in os.listdir(path_valid):  \n",
        "      try:\n",
        "        img_array=cv2.imread(os.path.join(path_valid, img))#, cv2.IMREAD_GRAYSCALE)\n",
        "        new_array=cv2.resize(img_array, (64, 64))  \n",
        "        new_array1=new_array/255 \n",
        "        dataset_valid.append([new_array1, class_num_valid])\n",
        "      except Exception as e:\n",
        "        print(e)\n",
        "\n",
        "create_validation_data()\n",
        "\n",
        "import random\n",
        "random.shuffle(dataset_valid)\n",
        "\n",
        "inputs_val=[]\n",
        "targets_val=[]\n",
        "\n",
        "for image, label in dataset_valid:\n",
        "  inputs_val.append(image)\n",
        "  targets_val.append(label)\n",
        "\n",
        "#---creating np array from the input images\n",
        "arr_inputs_val = np.array(inputs_val)\n",
        "arr_inputs_float_val=arr_inputs_val.astype('float32')\n",
        "\n",
        "\n",
        "#---convert np array of the input images to tensors-----\n",
        "arr_tensor_val = [torch.from_numpy(item).float() for item in arr_inputs_float_val]\n",
        "arr_stack_val=torch.stack(arr_tensor_val)\n",
        "\n",
        "#--- reshape the input images tensor\n",
        "arr_stack_val_reshape=arr_stack_val.reshape(-1,3,64,64)  #itt vissza 64!!!!!!!!!!!!!!!!!\n",
        "targets_torch_val=torch.tensor(targets_val, dtype=torch.float32)"
      ],
      "execution_count": null,
      "outputs": []
    },
    {
      "cell_type": "code",
      "metadata": {
        "id": "qexLxMbQqWUj"
      },
      "source": [
        "batch_size=32\n",
        "\n",
        "dataset_tensor_train=TensorDataset(arr_stack_train_reshape, targets_torch_train)\n",
        "dataset_tensor_valid=TensorDataset(arr_stack_val_reshape, targets_torch_val)\n",
        "\n",
        "train_dl = DataLoader(dataset_tensor_train, batch_size, shuffle=True, num_workers=2, pin_memory=True)\n",
        "val_dl = DataLoader(dataset_tensor_valid, batch_size, shuffle=True, num_workers=2, pin_memory=True)\n",
        "\n",
        "#------ END OF CUSTOM DATASET CREATION ---------------------"
      ],
      "execution_count": null,
      "outputs": []
    },
    {
      "cell_type": "code",
      "metadata": {
        "id": "tn19gn3AtMBy"
      },
      "source": [
        "class ImageClassificationBase(nn.Module):\n",
        "  \n",
        "    def training_step(self, batch):\n",
        "        images, labels = batch \n",
        "        out = self(images)                  # Generate predictions\n",
        "        loss = F.binary_cross_entropy(out, labels)  # Calculate loss\n",
        "        return loss\n",
        "    \n",
        "    def validation_step(self, batch):\n",
        "        images, labels = batch\n",
        "        out = self(images)                    # Generate predictions\n",
        "        loss = F.binary_cross_entropy(out, labels)    # Calculate loss\n",
        "        score = F_score(out, labels)\n",
        "        return {'val_loss': loss.detach(), 'val_acc': score}\n",
        "        \n",
        "    def validation_epoch_end(self, outputs):\n",
        "        batch_losses = [x['val_loss'] for x in outputs]\n",
        "        epoch_loss = torch.stack(batch_losses).mean()   # Combine losses\n",
        "        batch_accs = [x['val_acc'] for x in outputs]\n",
        "        epoch_acc = torch.stack(batch_accs).mean()      # Combine accuracies\n",
        "        return {'val_loss': epoch_loss.item(), 'val_acc': epoch_acc.item()}\n",
        "    \n",
        "    def epoch_end(self, epoch, result):\n",
        "        print(\"Epoch [{}], train_loss: {:.4f}, val_loss: {:.4f}, val_acc: {:.4f}\".format(\n",
        "            epoch, result['train_loss'], result['val_loss'], result['val_acc']))\n",
        "        \n",
        "def F_score(output, label, threshold=0.5, beta=1):\n",
        "    prob = output > threshold\n",
        "    label = label > threshold\n",
        "\n",
        "    TP = (prob & label).sum(1).float()\n",
        "    TN = ((~prob) & (~label)).sum(1).float()\n",
        "    FP = (prob & (~label)).sum(1).float()\n",
        "    FN = ((~prob) & label).sum(1).float()\n",
        "\n",
        "    precision = torch.mean(TP / (TP + FP + 1e-12))\n",
        "    recall = torch.mean(TP / (TP + FN + 1e-12))\n",
        "    F2 = (1 + beta**2) * precision * recall / (beta**2 * precision + recall + 1e-12)\n",
        "    return F2.mean(0)"
      ],
      "execution_count": null,
      "outputs": []
    },
    {
      "cell_type": "code",
      "metadata": {
        "id": "uQx4jSqetNWV"
      },
      "source": [
        "class HorseDolphinCnnModel(ImageClassificationBase):\n",
        "    def __init__(self):\n",
        "        super().__init__()\n",
        "        self.network = nn.Sequential(\n",
        "            nn.Conv2d(3, 32, kernel_size=3, padding=1),\n",
        "            nn.ReLU(),\n",
        "            nn.Conv2d(32, 64, kernel_size=3, stride=1, padding=1),\n",
        "            nn.ReLU(),\n",
        "            nn.MaxPool2d(2, 2), # output: 64 x 32 x 32\n",
        "\n",
        "            nn.Conv2d(64, 128, kernel_size=3, stride=1, padding=1),\n",
        "            nn.ReLU(),\n",
        "            nn.Conv2d(128, 128, kernel_size=3, stride=1, padding=1),\n",
        "            nn.ReLU(),\n",
        "            nn.MaxPool2d(2, 2), # output: 128 x 16 x 16\n",
        "\n",
        "            nn.Conv2d(128, 256, kernel_size=3, stride=1, padding=1),\n",
        "            nn.ReLU(),\n",
        "            nn.Conv2d(256, 256, kernel_size=3, stride=1, padding=1),\n",
        "            nn.ReLU(),\n",
        "            nn.MaxPool2d(2, 2), # output: 256 x 8 x 8\n",
        "\n",
        "            nn.MaxPool2d(2, 2), # output: 256 x 4 x 4\n",
        "            \n",
        "            nn.Flatten(), \n",
        "            #nn.Dropout(0.2),\n",
        "            nn.Linear(256*4*4, 1024),\n",
        "            nn.ReLU(),\n",
        "            nn.Linear(1024, 512),\n",
        "            nn.ReLU(),\n",
        "            nn.Linear(512, 2),\n",
        "            nn.Sigmoid())\n",
        "        \n",
        "    def forward(self, xb):\n",
        "        return self.network(xb)"
      ],
      "execution_count": null,
      "outputs": []
    },
    {
      "cell_type": "code",
      "metadata": {
        "id": "T-BqW4JFsZCf"
      },
      "source": [
        "def get_default_device():\n",
        "    \"\"\"Pick GPU if available, else CPU\"\"\"\n",
        "    if torch.cuda.is_available():\n",
        "        return torch.device('cuda')\n",
        "    else:\n",
        "        return torch.device('cpu')\n",
        "    \n",
        "def to_device(data, device):\n",
        "    \"\"\"Move tensor(s) to chosen device\"\"\"\n",
        "    if isinstance(data, (list,tuple)):\n",
        "        return [to_device(x, device) for x in data]\n",
        "    return data.to(device, non_blocking=True)\n",
        "\n",
        "class DeviceDataLoader():\n",
        "    \"\"\"Wrap a dataloader to move data to a device\"\"\"\n",
        "    def __init__(self, dl, device):\n",
        "        self.dl = dl\n",
        "        self.device = device\n",
        "        \n",
        "    def __iter__(self):\n",
        "        \"\"\"Yield a batch of data after moving it to device\"\"\"\n",
        "        for b in self.dl: \n",
        "            yield to_device(b, self.device)\n",
        "\n",
        "    def __len__(self):\n",
        "        \"\"\"Number of batches\"\"\"\n",
        "        return len(self.dl)"
      ],
      "execution_count": null,
      "outputs": []
    },
    {
      "cell_type": "code",
      "metadata": {
        "id": "RwS5Xy0rjrGq"
      },
      "source": [
        ""
      ],
      "execution_count": null,
      "outputs": []
    },
    {
      "cell_type": "code",
      "metadata": {
        "id": "HgdKVEZZsiFb"
      },
      "source": [
        "device = get_default_device()\n",
        "device"
      ],
      "execution_count": null,
      "outputs": []
    },
    {
      "cell_type": "code",
      "metadata": {
        "id": "H0DgVBtIuJWb"
      },
      "source": [
        "model = to_device(HorseDolphinCnnModel(), device)"
      ],
      "execution_count": null,
      "outputs": []
    },
    {
      "cell_type": "code",
      "metadata": {
        "id": "fMlx9mZAtYhk"
      },
      "source": [
        "def evaluate(model, val_loader):\n",
        "    model.eval()\n",
        "    outputs = [model.validation_step(batch) for batch in val_loader]\n",
        "    return model.validation_epoch_end(outputs)\n",
        "\n",
        "def fit(epochs, lr, model, train_loader, val_loader, opt_func=torch.optim.SGD):\n",
        "    history = []\n",
        "    optimizer = opt_func(model.parameters(), lr)\n",
        "    for epoch in range(epochs):\n",
        "        # Training Phase \n",
        "        model.train()\n",
        "        train_losses = []\n",
        "        for batch in train_loader:\n",
        "            x, y= batch\n",
        "            loss = model.training_step(batch)\n",
        "            train_losses.append(loss)\n",
        "            loss.backward()\n",
        "            optimizer.step()\n",
        "            optimizer.zero_grad()\n",
        "        # Validation phase\n",
        "        result = evaluate(model, val_loader)\n",
        "        result['train_loss'] = torch.stack(train_losses).mean().item()\n",
        "        model.epoch_end(epoch, result)\n",
        "        history.append(result)\n",
        "    return history\n",
        "\n"
      ],
      "execution_count": null,
      "outputs": []
    },
    {
      "cell_type": "code",
      "metadata": {
        "id": "ZmbyyD0JswD3"
      },
      "source": [
        "train_dl = DeviceDataLoader(train_dl, device)\n",
        "val_dl = DeviceDataLoader(val_dl, device)\n",
        "#test_dl = DeviceDataLoader(test_dl, device)\n",
        "#to_device(model, device)"
      ],
      "execution_count": null,
      "outputs": []
    },
    {
      "cell_type": "code",
      "metadata": {
        "id": "DG-jY7d3tcTm"
      },
      "source": [
        "num_epochs = 1200\n",
        "opt_func = torch.optim.Adam\n",
        "lr = 0.01\n",
        "\n",
        "history = fit(num_epochs, lr, model, train_dl, val_dl)"
      ],
      "execution_count": null,
      "outputs": []
    },
    {
      "cell_type": "code",
      "metadata": {
        "colab": {
          "base_uri": "https://localhost:8080/",
          "height": 295
        },
        "id": "JWTJltTyU449",
        "outputId": "b5b59c21-0567-4e32-b2e7-be7048115601"
      },
      "source": [
        "\n",
        "accuracies = [x['val_acc'] for x in history]\n",
        "plt.plot(accuracies)\n",
        "plt.xlabel('epoch')\n",
        "plt.ylabel('accuracy')\n",
        "plt.title('Accuracy vs. No. of epochs');"
      ],
      "execution_count": null,
      "outputs": [
        {
          "output_type": "display_data",
          "data": {
            "image/png": "[encoded data removed]",
            "text/plain": [
              "<Figure size 432x288 with 1 Axes>"
            ]
          },
          "metadata": {
            "tags": []
          }
        }
      ]
    },
    {
      "cell_type": "code",
      "metadata": {
        "colab": {
          "base_uri": "https://localhost:8080/",
          "height": 295
        },
        "id": "CS8naGVTVNA0",
        "outputId": "0a294821-4c87-4f74-c4e7-7d93bfd00e78"
      },
      "source": [
        "\n",
        "train_losses = [x.get('train_loss') for x in history]\n",
        "val_losses = [x['val_loss'] for x in history]\n",
        "plt.plot(train_losses)\n",
        "plt.plot(val_losses)\n",
        "plt.xlabel('epoch')\n",
        "plt.ylabel('loss')\n",
        "plt.legend(['Training', 'Validation'])\n",
        "plt.title('Loss vs. No. of epochs');"
      ],
      "execution_count": null,
      "outputs": [
        {
          "output_type": "display_data",
          "data": {
            "image/png": "[encoded data removed]",
            "text/plain": [
              "<Figure size 432x288 with 1 Axes>"
            ]
          },
          "metadata": {
            "tags": []
          }
        }
      ]
    },
    {
      "cell_type": "code",
      "metadata": {
        "id": "l167mbJpzFjq"
      },
      "source": [
        "torch.save(model.state_dict(), 'pics.modelparameters')"
      ],
      "execution_count": null,
      "outputs": []
    },
    {
      "cell_type": "code",
      "metadata": {
        "id": "JJeatELkzlqJ"
      },
      "source": [
        "model2=HorseDolphinCnnModel()\n",
        "model2.load_state_dict(torch.load('pics.modelparameters'))\n",
        "model2.state_dict"
      ],
      "execution_count": null,
      "outputs": []
    },
    {
      "cell_type": "code",
      "metadata": {
        "id": "yM64xpNP9Q0x"
      },
      "source": [
        "def predict_image(img, model):\n",
        "    xb = img.unsqueeze(0)\n",
        "    yb = model(xb)\n",
        "    #_, preds  = torch.max(yb, dim=1)\n",
        "    return yb"
      ],
      "execution_count": null,
      "outputs": []
    },
    {
      "cell_type": "code",
      "metadata": {
        "id": "NZS3TR8u5xMT"
      },
      "source": [
        "#Prediction for image containing dolphin and horse (it should be around [1,1])\n",
        "img_array=cv2.imread(\"/content/drive/MyDrive/tesztdh2.jpg\")#, cv2.IMREAD_GRAYSCALE)\n",
        "new_array=cv2.resize(img_array, (64, 64))\n",
        "new_array1=new_array/255 \n",
        "test_np = np.array(new_array1)\n",
        "test_np_float32=test_np.astype('float32')\n",
        "test_tensor0 = torch.from_numpy(test_np_float32)\n",
        "test_tensor=test_tensor0.reshape(3,64,64)"
      ],
      "execution_count": null,
      "outputs": []
    },
    {
      "cell_type": "code",
      "metadata": {
        "colab": {
          "base_uri": "https://localhost:8080/"
        },
        "id": "CaqjJ8T87WB2",
        "outputId": "39b08bca-4aa3-4100-f66c-06ae59a2cbbd"
      },
      "source": [
        "predict_image(test_tensor, model2)"
      ],
      "execution_count": null,
      "outputs": [
        {
          "output_type": "execute_result",
          "data": {
            "text/plain": [
              "tensor([[0.9998, 0.8887]], grad_fn=<SigmoidBackward>)"
            ]
          },
          "metadata": {
            "tags": []
          },
          "execution_count": 34
        }
      ]
    },
    {
      "cell_type": "code",
      "metadata": {
        "id": "cFE6NrpwWowb"
      },
      "source": [
        "#Prediction for image containing just dolphin (it should be around [0,1])\n",
        "\n",
        "img_array=cv2.imread(\"/content/drive/MyDrive/tesztd2.jpg\")#, cv2.IMREAD_GRAYSCALE)\n",
        "new_array=cv2.resize(img_array, (64, 64))\n",
        "new_array1=new_array/255 \n",
        "test_np = np.array(new_array1)\n",
        "test_np_float32=test_np.astype('float32')\n",
        "test_tensor0 = torch.from_numpy(test_np_float32)\n",
        "test_tensor=test_tensor0.reshape(3,64,64)"
      ],
      "execution_count": null,
      "outputs": []
    },
    {
      "cell_type": "code",
      "metadata": {
        "colab": {
          "base_uri": "https://localhost:8080/"
        },
        "id": "P2_LbSlgWsec",
        "outputId": "1758db45-9993-4785-8888-839e2878fec1"
      },
      "source": [
        "predict_image(test_tensor, model2)"
      ],
      "execution_count": null,
      "outputs": [
        {
          "output_type": "execute_result",
          "data": {
            "text/plain": [
              "tensor([[1.0000e+00, 3.3359e-05]], grad_fn=<SigmoidBackward>)"
            ]
          },
          "metadata": {
            "tags": []
          },
          "execution_count": 36
        }
      ]
    },
    {
      "cell_type": "code",
      "metadata": {
        "id": "ljdSsCP_W5Cq"
      },
      "source": [
        "#Prediction for image containing just horse (it should be around [1,0]) \n",
        "\n",
        "img_array=cv2.imread(\"/content/drive/MyDrive/teszth.jpg\")#, cv2.IMREAD_GRAYSCALE)\n",
        "new_array=cv2.resize(img_array, (64, 64))\n",
        "new_array1=new_array/255 \n",
        "test_np = np.array(new_array1)\n",
        "test_np_float32=test_np.astype('float32')\n",
        "test_tensor0 = torch.from_numpy(test_np_float32)\n",
        "test_tensor=test_tensor0.reshape(3,64,64)"
      ],
      "execution_count": null,
      "outputs": []
    },
    {
      "cell_type": "code",
      "metadata": {
        "colab": {
          "base_uri": "https://localhost:8080/"
        },
        "id": "P2yaKTjJW7OS",
        "outputId": "b4a35915-e33d-4632-e8b2-0e488a4ad342"
      },
      "source": [
        "predict_image(test_tensor, model2)"
      ],
      "execution_count": null,
      "outputs": [
        {
          "output_type": "execute_result",
          "data": {
            "text/plain": [
              "tensor([[1.0000e+00, 9.2325e-07]], grad_fn=<SigmoidBackward>)"
            ]
          },
          "metadata": {
            "tags": []
          },
          "execution_count": 38
        }
      ]
    },
    {
      "cell_type": "code",
      "metadata": {
        "id": "mEw6U4Akgy3B"
      },
      "source": [
        "#-----------------2nd APPROACH USING RESNET 9 (WITHOUT IMAGENET LIBARY AND DATA AUGMENTATION-------------------\n",
        "#-----------------after only 10 epoch 96% accuracy can be achieved\n",
        "\n",
        "def F_score(output, label, threshold=0.5, beta=1):\n",
        "    prob = output > threshold\n",
        "    label = label > threshold\n",
        "\n",
        "    TP = (prob & label).sum(1).float()\n",
        "    TN = ((~prob) & (~label)).sum(1).float()\n",
        "    FP = (prob & (~label)).sum(1).float()\n",
        "    FN = ((~prob) & label).sum(1).float()\n",
        "\n",
        "    precision = torch.mean(TP / (TP + FP + 1e-12))\n",
        "    recall = torch.mean(TP / (TP + FN + 1e-12))\n",
        "    F2 = (1 + beta**2) * precision * recall / (beta**2 * precision + recall + 1e-12)\n",
        "    return F2.mean(0)\n",
        "    \n",
        "class ImageClassificationBase(nn.Module):\n",
        "  \n",
        "    def training_step(self, batch):\n",
        "        images, labels = batch \n",
        "        out = self(images)                  # Generate predictions\n",
        "        loss = F.binary_cross_entropy(out, labels)  # Calculate loss\n",
        "        return loss\n",
        "    \n",
        "    def validation_step(self, batch):\n",
        "        images, labels = batch\n",
        "        out = self(images)                    # Generate predictions\n",
        "        loss = F.binary_cross_entropy(out, labels)    # Calculate loss\n",
        "        score = F_score(out, labels)\n",
        "        return {'val_loss': loss.detach(), 'val_acc': score}\n",
        "        \n",
        "    def validation_epoch_end(self, outputs):\n",
        "        batch_losses = [x['val_loss'] for x in outputs]\n",
        "        epoch_loss = torch.stack(batch_losses).mean()   # Combine losses\n",
        "        batch_accs = [x['val_acc'] for x in outputs]\n",
        "        epoch_acc = torch.stack(batch_accs).mean()      # Combine accuracies\n",
        "        return {'val_loss': epoch_loss.item(), 'val_acc': epoch_acc.item()}\n",
        "    \n",
        "    def epoch_end(self, epoch, result):\n",
        "        print(\"Epoch [{}], train_loss: {:.4f}, val_loss: {:.4f}, val_acc: {:.4f}\".format(\n",
        "            epoch, result['train_loss'], result['val_loss'], result['val_acc']))\n",
        "        \n",
        "\n",
        "\n",
        "def conv_block(in_channels, out_channels, pool=False):\n",
        "    layers = [nn.Conv2d(in_channels, out_channels, kernel_size=3, padding=1), \n",
        "              nn.BatchNorm2d(out_channels), \n",
        "              nn.ReLU(inplace=True)]\n",
        "    if pool: layers.append(nn.MaxPool2d(2))\n",
        "    return nn.Sequential(*layers)\n",
        "\n",
        "# Check out ResNeXT from torch vision:\n",
        "# https://learnopencv.com/multi-label-image-classification-with-pytorch-image-tagging/\n",
        "# NUS-WIDE dataset\n",
        "\n",
        "\n",
        "class ResNet9(ImageClassificationBase):\n",
        "    def __init__(self, in_channels, num_classes):\n",
        "        super().__init__()\n",
        "        \n",
        "        self.conv1 = conv_block(in_channels, 64, pool=True)  #32 x32\n",
        "        self.conv2 = conv_block(64, 128, pool=True)          #16 x 16\n",
        "        self.res1 = nn.Sequential(conv_block(128, 128), conv_block(128, 128))\n",
        "        \n",
        "        self.conv3 = conv_block(128, 256, pool=True) # 8 x 8\n",
        "        self.conv4 = conv_block(256, 512, pool=True) # 4 x 4\n",
        "        self.res2 = nn.Sequential(conv_block(512, 512), conv_block(512, 512))\n",
        "        \n",
        "        self.classifier = nn.Sequential(\n",
        "                                        nn.MaxPool2d(4), \n",
        "                                        nn.Flatten(), \n",
        "                                        #nn.Dropout(0.2),\n",
        "                                        nn.Linear(512, num_classes),\n",
        "                                        nn.Sigmoid())\n",
        "        \n",
        "    def forward(self, xb):\n",
        "        out = self.conv1(xb)\n",
        "        out = self.conv2(out)\n",
        "        out = self.res1(out) + out\n",
        "        out = self.conv3(out)\n",
        "        out = self.conv4(out)\n",
        "        out = self.res2(out) + out\n",
        "        out = self.classifier(out)\n",
        "        return out\n",
        "\n",
        "\n",
        "\n"
      ],
      "execution_count": null,
      "outputs": []
    },
    {
      "cell_type": "code",
      "metadata": {
        "id": "3lN1NljVhz5g"
      },
      "source": [
        "#-----if gpu is available\n",
        "\n",
        "def get_default_device():\n",
        "    \"\"\"Pick GPU if available, else CPU\"\"\"\n",
        "    if torch.cuda.is_available():\n",
        "        return torch.device('cuda')\n",
        "    else:\n",
        "        return torch.device('cpu')\n",
        "    \n",
        "def to_device(data, device):\n",
        "    \"\"\"Move tensor(s) to chosen device\"\"\"\n",
        "    if isinstance(data, (list,tuple)):\n",
        "        return [to_device(x, device) for x in data]\n",
        "    return data.to(device, non_blocking=True)\n",
        "\n",
        "class DeviceDataLoader():\n",
        "    \"\"\"Wrap a dataloader to move data to a device\"\"\"\n",
        "    def __init__(self, dl, device):\n",
        "        self.dl = dl\n",
        "        self.device = device\n",
        "        \n",
        "    def __iter__(self):\n",
        "        \"\"\"Yield a batch of data after moving it to device\"\"\"\n",
        "        for b in self.dl: \n",
        "            yield to_device(b, self.device)\n",
        "\n",
        "    def __len__(self):\n",
        "        \"\"\"Number of batches\"\"\"\n",
        "        return len(self.dl)\n",
        "\n",
        "device = get_default_device()\n",
        "\n",
        "model = to_device(ResNet9(3,2), device)\n",
        "train_dl = DeviceDataLoader(train_dl, device)\n",
        "val_dl = DeviceDataLoader(val_dl, device)\n",
        "\n"
      ],
      "execution_count": null,
      "outputs": []
    },
    {
      "cell_type": "code",
      "metadata": {
        "id": "9J3gDNKThbDQ"
      },
      "source": [
        "#if GPU is not available\n",
        "\n",
        "model = ResNet9(3, 2)"
      ],
      "execution_count": null,
      "outputs": []
    },
    {
      "cell_type": "code",
      "metadata": {
        "id": "DdgzBIg8iClW"
      },
      "source": [
        "history = []\n",
        "@torch.no_grad()\n",
        "def evaluate(model, val_loader):\n",
        "    model.eval()\n",
        "    outputs = [model.validation_step(batch) for batch in val_loader]\n",
        "    return model.validation_epoch_end(outputs)\n",
        "\n",
        "def get_lr(optimizer):\n",
        "    for param_group in optimizer.param_groups:\n",
        "        return param_group['lr']\n",
        "\n",
        "def fit_one_cycle(epochs, max_lr, model, train_loader, val_loader, \n",
        "                  weight_decay=0, grad_clip=None, opt_func=torch.optim.SGD):\n",
        "    torch.cuda.empty_cache()\n",
        "    #history = []\n",
        "    \n",
        "    # Set up cutom optimizer with weight decay\n",
        "    optimizer = opt_func(model.parameters(), max_lr, weight_decay=weight_decay)\n",
        "    # Set up one-cycle learning rate scheduler\n",
        "    sched = torch.optim.lr_scheduler.OneCycleLR(optimizer, max_lr, epochs=epochs, \n",
        "                                               steps_per_epoch=len(train_loader))\n",
        "    #sched = torch.optim.lr_scheduler.StepLR(opt_func, step_size=100, gamma=0.1)\n",
        "    for epoch in range(epochs):\n",
        "        # Training Phase \n",
        "        model.train()\n",
        "        train_losses = []\n",
        "        lrs = []\n",
        "        for batch in train_loader:\n",
        "            loss = model.training_step(batch)\n",
        "            train_losses.append(loss)\n",
        "            loss.backward()\n",
        "            \n",
        "            # Gradient clipping\n",
        "            if grad_clip: \n",
        "                nn.utils.clip_grad_value_(model.parameters(), grad_clip)\n",
        "            \n",
        "            optimizer.step()\n",
        "            optimizer.zero_grad()\n",
        "            \n",
        "            # Record & update learning rate\n",
        "            lrs.append(get_lr(optimizer))\n",
        "            sched.step()\n",
        "        \n",
        "        # Validation phase\n",
        "        result = evaluate(model, val_loader)\n",
        "        result['train_loss'] = torch.stack(train_losses).mean().item()\n",
        "        result['lrs'] = lrs\n",
        "        model.epoch_end(epoch, result)\n",
        "        history.append(result)\n",
        "    #return history\n",
        "\n",
        "epochs = 30\n",
        "max_lr = 0.01\n",
        "grad_clip = 0.1\n",
        "weight_decay = 1e-4\n",
        "opt_func = torch.optim.Adam\n",
        "\n",
        "\n",
        "fit_one_cycle(epochs, max_lr, model, train_dl, val_dl, \n",
        "                             grad_clip=grad_clip, \n",
        "                             weight_decay=weight_decay, \n",
        "                             opt_func=opt_func)"
      ],
      "execution_count": null,
      "outputs": []
    },
    {
      "cell_type": "code",
      "metadata": {
        "colab": {
          "base_uri": "https://localhost:8080/",
          "height": 295
        },
        "id": "ZoRbFoAwipH_",
        "outputId": "50cbe80f-dbbb-483d-dbfe-9cb289d358bb"
      },
      "source": [
        "accuracies = [x['val_acc'] for x in history]\n",
        "plt.plot(accuracies)\n",
        "plt.xlabel('epoch')\n",
        "plt.ylabel('accuracy')\n",
        "plt.title('Accuracy vs. No. of epochs');"
      ],
      "execution_count": null,
      "outputs": [
        {
          "output_type": "display_data",
          "data": {
            "image/png": "[encoded data removed]",
            "text/plain": [
              "<Figure size 432x288 with 1 Axes>"
            ]
          },
          "metadata": {
            "tags": []
          }
        }
      ]
    },
    {
      "cell_type": "code",
      "metadata": {
        "colab": {
          "base_uri": "https://localhost:8080/",
          "height": 295
        },
        "id": "UmMgsR6gip-X",
        "outputId": "977bbde9-37ed-441d-fdc6-98f925295148"
      },
      "source": [
        "train_losses = [x.get('train_loss') for x in history]\n",
        "val_losses = [x['val_loss'] for x in history]\n",
        "plt.plot(train_losses)\n",
        "plt.plot(val_losses)\n",
        "plt.xlabel('epoch')\n",
        "plt.ylabel('loss')\n",
        "plt.legend(['Training', 'Validation'])\n",
        "plt.title('Loss vs. No. of epochs');"
      ],
      "execution_count": null,
      "outputs": [
        {
          "output_type": "display_data",
          "data": {
            "image/png": "[encoded data removed]",
            "text/plain": [
              "<Figure size 432x288 with 1 Axes>"
            ]
          },
          "metadata": {
            "tags": []
          }
        }
      ]
    },
    {
      "cell_type": "code",
      "metadata": {
        "id": "WIvIl99Bihnr"
      },
      "source": [
        "torch.save(model.state_dict(), 'pics.modelparameters')"
      ],
      "execution_count": null,
      "outputs": []
    },
    {
      "cell_type": "code",
      "metadata": {
        "id": "pI_uYltYibza"
      },
      "source": [
        "model2=ResNet9(3,2)\n",
        "model2.load_state_dict(torch.load('pics.modelparameters'))\n",
        "model2.state_dict\n"
      ],
      "execution_count": null,
      "outputs": []
    },
    {
      "cell_type": "code",
      "metadata": {
        "id": "tMwFfLD-iyc_"
      },
      "source": [
        "def predict_image(img, model):\n",
        "    xb = img.unsqueeze(0)\n",
        "    yb = model(xb)\n",
        "    #_, preds  = torch.max(yb, dim=1)\n",
        "    return yb"
      ],
      "execution_count": null,
      "outputs": []
    },
    {
      "cell_type": "code",
      "metadata": {
        "id": "gdqXvBEPi_P-"
      },
      "source": [
        "#Prediction for image containing dolphin and horse (it should be around [1,1])\n",
        "img_array=cv2.imread(\"/content/drive/MyDrive/tesztdh.jpg\")#, cv2.IMREAD_GRAYSCALE)\n",
        "new_array=cv2.resize(img_array, (64, 64))\n",
        "new_array1=new_array/255 \n",
        "test_np = np.array(new_array1)\n",
        "test_np_float32=test_np.astype('float32')\n",
        "test_tensor0 = torch.from_numpy(test_np_float32)\n",
        "test_tensor=test_tensor0.reshape(3,64,64)"
      ],
      "execution_count": null,
      "outputs": []
    },
    {
      "cell_type": "code",
      "metadata": {
        "colab": {
          "base_uri": "https://localhost:8080/"
        },
        "id": "gmtAfoowizlv",
        "outputId": "7be8fd83-8a31-42cf-f920-cc0e15a34b9f"
      },
      "source": [
        "predict_image(test_tensor, model2)"
      ],
      "execution_count": null,
      "outputs": [
        {
          "output_type": "execute_result",
          "data": {
            "text/plain": [
              "tensor([[0.7159, 0.9445]], grad_fn=<SigmoidBackward>)"
            ]
          },
          "metadata": {
            "tags": []
          },
          "execution_count": 49
        }
      ]
    },
    {
      "cell_type": "code",
      "metadata": {
        "colab": {
          "base_uri": "https://localhost:8080/"
        },
        "id": "d-Hx9r04jDnQ",
        "outputId": "5fcc973f-1e0d-4012-e691-b5841af1e342"
      },
      "source": [
        "#Prediction for image containing just dolphin (it should be around [0,1])\n",
        "\n",
        "img_array=cv2.imread(\"/content/drive/MyDrive/tesztd3.jpg\")#, cv2.IMREAD_GRAYSCALE)\n",
        "new_array=cv2.resize(img_array, (64, 64))\n",
        "new_array1=new_array/255 \n",
        "test_np = np.array(new_array1)\n",
        "test_np_float32=test_np.astype('float32')\n",
        "test_tensor0 = torch.from_numpy(test_np_float32)\n",
        "test_tensor=test_tensor0.reshape(3,64,64)\n",
        "\n",
        "predict_image(test_tensor, model2)"
      ],
      "execution_count": null,
      "outputs": [
        {
          "output_type": "execute_result",
          "data": {
            "text/plain": [
              "tensor([[0.9193, 0.7841]], grad_fn=<SigmoidBackward>)"
            ]
          },
          "metadata": {
            "tags": []
          },
          "execution_count": 50
        }
      ]
    },
    {
      "cell_type": "code",
      "metadata": {
        "colab": {
          "base_uri": "https://localhost:8080/"
        },
        "id": "Wa_bj5yijIjy",
        "outputId": "a671bb91-58ff-43d2-9cab-7992bc785f17"
      },
      "source": [
        "#Prediction for image containing just horse (it should be around [1,0]) \n",
        "\n",
        "img_array=cv2.imread(\"/content/drive/MyDrive/teszth2.jpg\")#, cv2.IMREAD_GRAYSCALE)\n",
        "new_array=cv2.resize(img_array, (64, 64))\n",
        "new_array1=new_array/255 \n",
        "test_np = np.array(new_array1)\n",
        "test_np_float32=test_np.astype('float32')\n",
        "test_tensor0 = torch.from_numpy(test_np_float32)\n",
        "test_tensor=test_tensor0.reshape(3,64,64)\n",
        "\n",
        "predict_image(test_tensor, model2)"
      ],
      "execution_count": null,
      "outputs": [
        {
          "output_type": "execute_result",
          "data": {
            "text/plain": [
              "tensor([[0.5752, 0.9422]], grad_fn=<SigmoidBackward>)"
            ]
          },
          "metadata": {
            "tags": []
          },
          "execution_count": 51
        }
      ]
    },
    {
      "cell_type": "code",
      "metadata": {
        "id": "XIvuu7f7MJh-"
      },
      "source": [
        "import tensorflow as tf\n",
        "a=tf.Variable([5,6,7],[1,3,4])\n",
        "print(a.rank)"
      ],
      "execution_count": null,
      "outputs": []
    },
    {
      "cell_type": "markdown",
      "metadata": {
        "id": "T0duBZi3tSZX"
      },
      "source": [
        "-------TENSORFLOW (SEQUENTIAL) DNN MODEL---------"
      ]
    },
    {
      "cell_type": "code",
      "metadata": {
        "colab": {
          "base_uri": "https://localhost:8080/"
        },
        "id": "oR1kVJlLR0Nc",
        "outputId": "3a9b27ca-4399-403b-d03c-8847742f76bf"
      },
      "source": [
        "\n",
        "# run the first three division on the top to create the necesary folders\n",
        "\n",
        "import os\n",
        "import tensorflow as tf\n",
        "from tensorflow import keras\n",
        "import numpy as np\n",
        "import matplotlib.pyplot as plt\n",
        "from tensorflow.keras import layers\n",
        "\n",
        "\n",
        "\n",
        "datadir=\"/content/train/\" \n",
        "train_categories=['horse/horse_train/', 'dolphin/dolphin_train/', 'dolphin_horse/dolphin_horse_train/']\n",
        "\n",
        "dataset_train=[]\n",
        "def create_train_data():\n",
        "  for category in train_categories:\n",
        "    path_train=os.path.join(datadir, category)\n",
        "    if category==\"horse/horse_train/\":\n",
        "      class_num_train=[1,0]\n",
        "    if category==\"dolphin/dolphin_train/\":\n",
        "      class_num_train=[0,1]\n",
        "    if category==\"dolphin_horse/dolphin_horse_train/\":\n",
        "      class_num_train=[1,1]\n",
        "    for img in os.listdir(path_train):  \n",
        "      try:\n",
        "        img_array=cv2.imread(os.path.join(path_train, img))#, cv2.IMREAD_GRAYSCALE)\n",
        "        new_array=cv2.resize(img_array, (64, 64))  \n",
        "        new_array1=new_array/255 \n",
        "        dataset_train.append([new_array1, class_num_train])\n",
        "      except Exception as e:\n",
        "        print(e)\n",
        "\n",
        "create_train_data()\n",
        "\n",
        "import random\n",
        "random.shuffle(dataset_train)\n",
        "\n",
        "inputs_train=[]\n",
        "targets_train=[]\n",
        "\n",
        "for image, label in dataset_train:\n",
        "  inputs_train.append(image)\n",
        "  targets_train.append(label)\n",
        "\n",
        "#---creating np array from the input images\n",
        "arr_inputs_train = np.array(inputs_train)\n",
        "arr_inputs_float_train=arr_inputs_train.astype('float32')\n",
        "\n",
        "\n",
        "arr_inputs_train_targets = np.array(targets_train)\n",
        "arr_inputs_float_train_targets=arr_inputs_train_targets.astype('float32')\n",
        "\n",
        "\n",
        "\n",
        "\n",
        "datadir=\"/content/valid/\" \n",
        "valid_categories=['horse/horse_valid/', 'dolphin/dolphin_valid/', 'dolphin_horse/dolphin_horse_valid/']\n",
        "\n",
        "dataset_valid=[]\n",
        "def create_validation_data():\n",
        "  for category in valid_categories:\n",
        "    path_valid=os.path.join(datadir, category)\n",
        "    if category==\"horse/horse_valid/\":\n",
        "      class_num_valid=[1,0]\n",
        "    if category==\"dolphin/dolphin_valid/\":\n",
        "      class_num_valid=[0,1]\n",
        "    if category==\"dolphin_horse/dolphin_horse_valid/\":\n",
        "      class_num_valid=[1,1]\n",
        "    for img in os.listdir(path_valid):  \n",
        "      try:\n",
        "        img_array=cv2.imread(os.path.join(path_valid, img))#, cv2.IMREAD_GRAYSCALE)\n",
        "        new_array=cv2.resize(img_array, (64, 64))  \n",
        "        new_array1=new_array/255 \n",
        "        dataset_valid.append([new_array1, class_num_valid])\n",
        "      except Exception as e:\n",
        "        print(e)\n",
        "\n",
        "create_validation_data()\n",
        "\n",
        "import random\n",
        "random.shuffle(dataset_valid)\n",
        "\n",
        "inputs_val=[]\n",
        "targets_val=[]\n",
        "\n",
        "for image, label in dataset_valid:\n",
        "  inputs_val.append(image)\n",
        "  targets_val.append(label)\n",
        "\n",
        "#---creating np array from the input images\n",
        "arr_inputs_val = np.array(inputs_val)\n",
        "arr_inputs_float_val=arr_inputs_val.astype('float32')\n",
        "\n",
        "\n",
        "\n",
        "#------TEST DATASET-----------\n",
        "\n",
        "\n",
        "datadir=\"/content/test/\" \n",
        "test_categories=['horse/HorseTest/', 'dolphin/DolphinTest/', 'dolphin_horse/DolphinHorseTest/']\n",
        "\n",
        "dataset_test=[]\n",
        "def create_test_data():\n",
        "  for category in test_categories:\n",
        "    path_test=os.path.join(datadir, category)\n",
        "    if category==\"horse/HorseTest/\":\n",
        "      class_num_test=[1,0]\n",
        "    if category==\"dolphin/DolphinTest/\":\n",
        "      class_num_test=[0,1]\n",
        "    if category==\"dolphin_horse/DolphinHorseTest/\":\n",
        "      class_num_test=[1,1]\n",
        "    for img in os.listdir(path_test):  \n",
        "      try:\n",
        "        img_array=cv2.imread(os.path.join(path_test, img))#, cv2.IMREAD_GRAYSCALE)\n",
        "        new_array=cv2.resize(img_array, (64, 64))  \n",
        "        new_array1=new_array/255 \n",
        "        dataset_test.append([new_array1, class_num_test])\n",
        "      except Exception as e:\n",
        "        print(e)\n",
        "\n",
        "create_test_data()\n",
        "\n",
        "import random\n",
        "random.shuffle(dataset_test)\n",
        "\n",
        "inputs_test=[]\n",
        "targets_test=[]\n",
        "\n",
        "for image, label in dataset_test:\n",
        "  inputs_test.append(image)\n",
        "  targets_test.append(label)\n",
        "\n",
        "#---creating np array from the input images\n",
        "arr_inputs_test = np.array(inputs_test)\n",
        "arr_inputs_float_test=arr_inputs_test.astype('float32')\n",
        "\n",
        "\n",
        "\n",
        "#---------------- NOW YOU CAN RUN THE DNN OR THE CNN MODELS----------\n"
      ],
      "execution_count": null,
      "outputs": [
        {
          "output_type": "stream",
          "text": [
            "OpenCV(4.1.2) /io/opencv/modules/imgproc/src/resize.cpp:3720: error: (-215:Assertion failed) !ssize.empty() in function 'resize'\n",
            "\n",
            "OpenCV(4.1.2) /io/opencv/modules/imgproc/src/resize.cpp:3720: error: (-215:Assertion failed) !ssize.empty() in function 'resize'\n",
            "\n",
            "OpenCV(4.1.2) /io/opencv/modules/imgproc/src/resize.cpp:3720: error: (-215:Assertion failed) !ssize.empty() in function 'resize'\n",
            "\n"
          ],
          "name": "stdout"
        }
      ]
    },
    {
      "cell_type": "code",
      "metadata": {
        "id": "Pm5glXI0JDea"
      },
      "source": [
        "print(len(inputs_test))"
      ],
      "execution_count": null,
      "outputs": []
    },
    {
      "cell_type": "code",
      "metadata": {
        "colab": {
          "base_uri": "https://localhost:8080/"
        },
        "id": "gDsGjdkstRwL",
        "outputId": "1996574a-8fae-4919-da53-53cecc1a339a"
      },
      "source": [
        "\n",
        "\n",
        "\n",
        "# 1.) MODEL\n",
        "model = keras.models.Sequential([\n",
        "    keras.layers.Flatten(input_shape=(64,64,3)),\n",
        "    keras.layers.Dense(128, activation='relu'),\n",
        "    keras.layers.Dense(2, activation='sigmoid') \n",
        "    #keras.layers.Sigmoid()\n",
        "\n",
        "    ])\n",
        "\n",
        "# 2.) lOSS, OPTIMIZER, METRICS\n",
        "loss = keras.losses.BinaryCrossentropy(from_logits=False)  #SparseCategoricalCrossentropy as we have single classes(1,2), \n",
        "                                                                    #if it is vector (0,1,0,0....) CategoricalCrossentropy. \n",
        "                                                                    #From_logits=True as we didn't build the softmax into the model\n",
        "optim = keras.optimizers.Adam(lr=0.001)\n",
        "metrics = [\"accuracy\"]\n",
        "\n",
        "# 3.) CONFIGURATION OF THE MODEL\n",
        "\n",
        "model.compile(loss=loss, optimizer=optim, metrics=metrics)\n",
        "\n",
        "# 4.) TRAINING\n",
        "batch_size = 32\n",
        "epochs = 50\n",
        "\n",
        "history=model.fit(arr_inputs_float_train, arr_inputs_float_train_targets, batch_size=batch_size, epochs=epochs, shuffle=True, verbose=2)"
      ],
      "execution_count": null,
      "outputs": [
        {
          "output_type": "stream",
          "text": [
            "/usr/local/lib/python3.7/dist-packages/tensorflow/python/keras/optimizer_v2/optimizer_v2.py:375: UserWarning: The `lr` argument is deprecated, use `learning_rate` instead.\n",
            "  \"The `lr` argument is deprecated, use `learning_rate` instead.\")\n"
          ],
          "name": "stderr"
        },
        {
          "output_type": "stream",
          "text": [
            "Epoch 1/50\n",
            "15/15 - 3s - loss: 1.7529 - accuracy: 0.6277\n",
            "Epoch 2/50\n",
            "15/15 - 0s - loss: 0.3722 - accuracy: 0.8442\n",
            "Epoch 3/50\n",
            "15/15 - 0s - loss: 0.3414 - accuracy: 0.8290\n",
            "Epoch 4/50\n",
            "15/15 - 0s - loss: 0.4259 - accuracy: 0.8052\n",
            "Epoch 5/50\n",
            "15/15 - 0s - loss: 0.3021 - accuracy: 0.8788\n",
            "Epoch 6/50\n",
            "15/15 - 0s - loss: 0.2515 - accuracy: 0.8701\n",
            "Epoch 7/50\n",
            "15/15 - 0s - loss: 0.2461 - accuracy: 0.8680\n",
            "Epoch 8/50\n",
            "15/15 - 0s - loss: 0.2310 - accuracy: 0.8874\n",
            "Epoch 9/50\n",
            "15/15 - 0s - loss: 0.2184 - accuracy: 0.8853\n",
            "Epoch 10/50\n",
            "15/15 - 0s - loss: 0.2393 - accuracy: 0.8853\n",
            "Epoch 11/50\n",
            "15/15 - 0s - loss: 0.2239 - accuracy: 0.8831\n",
            "Epoch 12/50\n",
            "15/15 - 0s - loss: 0.1832 - accuracy: 0.9048\n",
            "Epoch 13/50\n",
            "15/15 - 0s - loss: 0.1542 - accuracy: 0.9264\n",
            "Epoch 14/50\n",
            "15/15 - 0s - loss: 0.1430 - accuracy: 0.9264\n",
            "Epoch 15/50\n",
            "15/15 - 0s - loss: 0.1402 - accuracy: 0.9264\n",
            "Epoch 16/50\n",
            "15/15 - 0s - loss: 0.1290 - accuracy: 0.9394\n",
            "Epoch 17/50\n",
            "15/15 - 0s - loss: 0.1623 - accuracy: 0.9069\n",
            "Epoch 18/50\n",
            "15/15 - 0s - loss: 0.1389 - accuracy: 0.9221\n",
            "Epoch 19/50\n",
            "15/15 - 0s - loss: 0.2598 - accuracy: 0.8810\n",
            "Epoch 20/50\n",
            "15/15 - 0s - loss: 0.2041 - accuracy: 0.8896\n",
            "Epoch 21/50\n",
            "15/15 - 0s - loss: 0.2147 - accuracy: 0.8853\n",
            "Epoch 22/50\n",
            "15/15 - 0s - loss: 0.1407 - accuracy: 0.9156\n",
            "Epoch 23/50\n",
            "15/15 - 0s - loss: 0.1455 - accuracy: 0.9069\n",
            "Epoch 24/50\n",
            "15/15 - 0s - loss: 0.1285 - accuracy: 0.9372\n",
            "Epoch 25/50\n",
            "15/15 - 0s - loss: 0.2733 - accuracy: 0.8680\n",
            "Epoch 26/50\n",
            "15/15 - 0s - loss: 0.1487 - accuracy: 0.9091\n",
            "Epoch 27/50\n",
            "15/15 - 0s - loss: 0.0988 - accuracy: 0.9416\n",
            "Epoch 28/50\n",
            "15/15 - 0s - loss: 0.0829 - accuracy: 0.9437\n",
            "Epoch 29/50\n",
            "15/15 - 0s - loss: 0.0746 - accuracy: 0.9394\n",
            "Epoch 30/50\n",
            "15/15 - 0s - loss: 0.0721 - accuracy: 0.9394\n",
            "Epoch 31/50\n",
            "15/15 - 0s - loss: 0.0739 - accuracy: 0.9372\n",
            "Epoch 32/50\n",
            "15/15 - 0s - loss: 0.0657 - accuracy: 0.9372\n",
            "Epoch 33/50\n",
            "15/15 - 0s - loss: 0.0594 - accuracy: 0.9437\n",
            "Epoch 34/50\n",
            "15/15 - 0s - loss: 0.0672 - accuracy: 0.9372\n",
            "Epoch 35/50\n",
            "15/15 - 0s - loss: 0.2254 - accuracy: 0.8788\n",
            "Epoch 36/50\n",
            "15/15 - 0s - loss: 0.1133 - accuracy: 0.9242\n",
            "Epoch 37/50\n",
            "15/15 - 0s - loss: 0.0880 - accuracy: 0.9372\n",
            "Epoch 38/50\n",
            "15/15 - 0s - loss: 0.0669 - accuracy: 0.9394\n",
            "Epoch 39/50\n",
            "15/15 - 0s - loss: 0.0519 - accuracy: 0.9437\n",
            "Epoch 40/50\n",
            "15/15 - 0s - loss: 0.0450 - accuracy: 0.9437\n",
            "Epoch 41/50\n",
            "15/15 - 0s - loss: 0.0363 - accuracy: 0.9502\n",
            "Epoch 42/50\n",
            "15/15 - 0s - loss: 0.0348 - accuracy: 0.9502\n",
            "Epoch 43/50\n",
            "15/15 - 0s - loss: 0.0422 - accuracy: 0.9416\n",
            "Epoch 44/50\n",
            "15/15 - 0s - loss: 0.0314 - accuracy: 0.9481\n",
            "Epoch 45/50\n",
            "15/15 - 0s - loss: 0.0404 - accuracy: 0.9481\n",
            "Epoch 46/50\n",
            "15/15 - 0s - loss: 0.0295 - accuracy: 0.9481\n",
            "Epoch 47/50\n",
            "15/15 - 0s - loss: 0.0342 - accuracy: 0.9459\n",
            "Epoch 48/50\n",
            "15/15 - 0s - loss: 0.0321 - accuracy: 0.9502\n",
            "Epoch 49/50\n",
            "15/15 - 0s - loss: 0.0278 - accuracy: 0.9437\n",
            "Epoch 50/50\n",
            "15/15 - 0s - loss: 0.0211 - accuracy: 0.9502\n"
          ],
          "name": "stdout"
        }
      ]
    },
    {
      "cell_type": "code",
      "metadata": {
        "id": "ZwDgHELECY4p"
      },
      "source": [
        "from matplotlib import pyplot as plt"
      ],
      "execution_count": null,
      "outputs": []
    },
    {
      "cell_type": "code",
      "metadata": {
        "colab": {
          "base_uri": "https://localhost:8080/",
          "height": 314
        },
        "id": "hlILpuP9CgK2",
        "outputId": "a383241b-37d3-45b8-94d9-0511c9b8c56c"
      },
      "source": [
        "plt.plot(history.history[\"accuracy\"])\n",
        "plt.title(\"Metrics\")\n",
        "plt.xlabel(\"Epoch\")\n",
        "plt.ylabel(\"Accuracy\")\n",
        "plt.legend([\"Train\"], loc=\"upper left\")\n",
        "\n"
      ],
      "execution_count": null,
      "outputs": [
        {
          "output_type": "execute_result",
          "data": {
            "text/plain": [
              "<matplotlib.legend.Legend at 0x7f5dbdca7d50>"
            ]
          },
          "metadata": {
            "tags": []
          },
          "execution_count": 59
        },
        {
          "output_type": "display_data",
          "data": {
            "image/png": "[encoded data removed]",
            "text/plain": [
              "<Figure size 432x288 with 1 Axes>"
            ]
          },
          "metadata": {
            "tags": []
          }
        }
      ]
    },
    {
      "cell_type": "code",
      "metadata": {
        "id": "VDumVHnh8OIU"
      },
      "source": [
        "predictions = model(arr_inputs_float_test)"
      ],
      "execution_count": null,
      "outputs": []
    },
    {
      "cell_type": "code",
      "metadata": {
        "colab": {
          "base_uri": "https://localhost:8080/"
        },
        "id": "8IOcP_jbJ0In",
        "outputId": "5f0f0662-da18-4c4a-95c1-6e0c0c6c47fe"
      },
      "source": [
        "counter=0\n",
        "for i in range(len(targets_test)):\n",
        "  if targets_test[i][0]==1 and 0.5< predictions[i][0] and targets_test[i][1]==1 and 0.5< predictions[i][1]:  #[1,1]\n",
        "    counter+=1\n",
        "  if targets_test[i][0]==1 and 0.5< predictions[i][0] and targets_test[i][1]==0 and 0.5> predictions[i][1]:   #[1,0]\n",
        "    counter+=1\n",
        "  if targets_test[i][0]==0 and 0.5> predictions[i][0] and targets_test[i][1]==1 and 0.5< predictions[i][1]:    #[0,1]\n",
        "    counter+=1\n",
        "  if targets_test[i][0]==0 and 0.5> predictions[i][0] and targets_test[i][1]==0 and 0.5> predictions[i][1]:    #[0,0]\n",
        "    counter+=1\n",
        "\n",
        "\n",
        "print(counter/len(targets_test))\n",
        "\n"
      ],
      "execution_count": null,
      "outputs": [
        {
          "output_type": "stream",
          "text": [
            "0.8243243243243243\n"
          ],
          "name": "stdout"
        }
      ]
    },
    {
      "cell_type": "markdown",
      "metadata": {
        "id": "lCAkUEpGcWqT"
      },
      "source": [
        "------- TF_CNN model----------------"
      ]
    },
    {
      "cell_type": "code",
      "metadata": {
        "colab": {
          "base_uri": "https://localhost:8080/"
        },
        "id": "7ypk0Da5cUY0",
        "outputId": "15e96a91-0d9a-4842-b5ef-88d81a4b12ec"
      },
      "source": [
        "\n",
        "modelCNN = keras.models.Sequential()\n",
        "modelCNN.add(layers.Conv2D(32, (3,3), strides=(1,1), padding=\"valid\", activation='relu', input_shape=(64,64,3)))  #64\n",
        "modelCNN.add(layers.MaxPool2D((2,2)))   #32\n",
        "modelCNN.add(layers.Conv2D(64, 3, activation='relu'))\n",
        "modelCNN.add(layers.MaxPool2D((2,2)))  #16\n",
        "modelCNN.add(layers.Conv2D(128, 3, activation='relu'))\n",
        "modelCNN.add(layers.MaxPool2D((2,2)))  #8\n",
        "modelCNN.add(layers.Conv2D(256, 3, activation='relu'))\n",
        "modelCNN.add(layers.MaxPool2D((2,2)))  #4\n",
        "modelCNN.add(layers.MaxPool2D((2,2)))  #2\n",
        "modelCNN.add(layers.Flatten())\n",
        "modelCNN.add(layers.Dropout(0.2)) \n",
        "modelCNN.add(layers.Dense(1024, activation='relu'))\n",
        "modelCNN.add(layers.Dense(512, activation='relu'))\n",
        "modelCNN.add(layers.Dense(2, activation='sigmoid'))\n",
        "\n",
        "\n",
        "# 2.) lOSS, OPTIMIZER, METRICS\n",
        "loss = keras.losses.BinaryCrossentropy(from_logits=False)  #SparseCategoricalCrossentropy as we have single classes(1,2), \n",
        "                                                                    #if it is vector (0,1,0,0....) CategoricalCrossentropy. \n",
        "                                                                    #From_logits=True as we didn't build the softmax into the model\n",
        "optim = keras.optimizers.Adam(lr=0.001)\n",
        "metrics = [\"accuracy\"]\n",
        "\n",
        "# 3.) CONFIGURATION OF THE MODEL\n",
        "\n",
        "model.compile(loss=loss, optimizer=optim, metrics=metrics)\n",
        "\n",
        "# 4.) TRAINING\n",
        "batch_size = 32\n",
        "epochs = 30\n",
        "\n",
        "model.fit(arr_inputs_float_train, arr_inputs_float_train_targets, batch_size=batch_size, epochs=epochs, shuffle=True, verbose=2)"
      ],
      "execution_count": null,
      "outputs": [
        {
          "output_type": "stream",
          "text": [
            "/usr/local/lib/python3.7/dist-packages/tensorflow/python/keras/optimizer_v2/optimizer_v2.py:375: UserWarning: The `lr` argument is deprecated, use `learning_rate` instead.\n",
            "  \"The `lr` argument is deprecated, use `learning_rate` instead.\")\n"
          ],
          "name": "stderr"
        },
        {
          "output_type": "stream",
          "text": [
            "Epoch 1/30\n",
            "15/15 - 0s - loss: 0.7637 - accuracy: 0.8052\n",
            "Epoch 2/30\n",
            "15/15 - 0s - loss: 0.1400 - accuracy: 0.8939\n",
            "Epoch 3/30\n",
            "15/15 - 0s - loss: 0.0710 - accuracy: 0.9307\n",
            "Epoch 4/30\n",
            "15/15 - 0s - loss: 0.0489 - accuracy: 0.9502\n",
            "Epoch 5/30\n",
            "15/15 - 0s - loss: 0.0399 - accuracy: 0.9437\n",
            "Epoch 6/30\n",
            "15/15 - 0s - loss: 0.0313 - accuracy: 0.9437\n",
            "Epoch 7/30\n",
            "15/15 - 0s - loss: 0.0349 - accuracy: 0.9459\n",
            "Epoch 8/30\n",
            "15/15 - 0s - loss: 0.0349 - accuracy: 0.9416\n",
            "Epoch 9/30\n",
            "15/15 - 0s - loss: 0.0460 - accuracy: 0.9610\n",
            "Epoch 10/30\n",
            "15/15 - 0s - loss: 0.0557 - accuracy: 0.9264\n",
            "Epoch 11/30\n",
            "15/15 - 0s - loss: 0.0436 - accuracy: 0.9437\n",
            "Epoch 12/30\n",
            "15/15 - 0s - loss: 0.0272 - accuracy: 0.9524\n",
            "Epoch 13/30\n",
            "15/15 - 0s - loss: 0.0275 - accuracy: 0.9437\n",
            "Epoch 14/30\n",
            "15/15 - 0s - loss: 0.0246 - accuracy: 0.9545\n",
            "Epoch 15/30\n",
            "15/15 - 0s - loss: 0.0249 - accuracy: 0.9524\n",
            "Epoch 16/30\n",
            "15/15 - 0s - loss: 0.0245 - accuracy: 0.9502\n",
            "Epoch 17/30\n",
            "15/15 - 0s - loss: 0.0163 - accuracy: 0.9481\n",
            "Epoch 18/30\n",
            "15/15 - 0s - loss: 0.0169 - accuracy: 0.9481\n",
            "Epoch 19/30\n",
            "15/15 - 0s - loss: 0.0226 - accuracy: 0.9589\n",
            "Epoch 20/30\n",
            "15/15 - 0s - loss: 0.0213 - accuracy: 0.9524\n",
            "Epoch 21/30\n",
            "15/15 - 0s - loss: 0.0190 - accuracy: 0.9545\n",
            "Epoch 22/30\n",
            "15/15 - 0s - loss: 0.0140 - accuracy: 0.9459\n",
            "Epoch 23/30\n",
            "15/15 - 0s - loss: 0.0125 - accuracy: 0.9502\n",
            "Epoch 24/30\n",
            "15/15 - 0s - loss: 0.0126 - accuracy: 0.9481\n",
            "Epoch 25/30\n",
            "15/15 - 0s - loss: 0.0169 - accuracy: 0.9589\n",
            "Epoch 26/30\n",
            "15/15 - 0s - loss: 0.0219 - accuracy: 0.9437\n",
            "Epoch 27/30\n",
            "15/15 - 0s - loss: 0.0204 - accuracy: 0.9394\n",
            "Epoch 28/30\n",
            "15/15 - 0s - loss: 0.0389 - accuracy: 0.9481\n",
            "Epoch 29/30\n",
            "15/15 - 0s - loss: 0.0919 - accuracy: 0.9307\n",
            "Epoch 30/30\n",
            "15/15 - 0s - loss: 0.2678 - accuracy: 0.8874\n"
          ],
          "name": "stdout"
        },
        {
          "output_type": "execute_result",
          "data": {
            "text/plain": [
              "<tensorflow.python.keras.callbacks.History at 0x7f5dbc119290>"
            ]
          },
          "metadata": {
            "tags": []
          },
          "execution_count": 64
        }
      ]
    },
    {
      "cell_type": "code",
      "metadata": {
        "id": "pJW6a4lHiOUT"
      },
      "source": [
        "predictions = modelCNN(arr_inputs_float_val)\n"
      ],
      "execution_count": null,
      "outputs": []
    },
    {
      "cell_type": "code",
      "metadata": {
        "id": "OEBkLNc2Qv5q"
      },
      "source": [
        "counter=0\n",
        "for i in range(len(targets_val)):\n",
        "  if targets_val[i][0]==1 and 0.5< predictions[i][0] and targets_val[i][1]==1 and 0.5< predictions[i][1]:  #[1,1]\n",
        "    counter+=1\n",
        "  if targets_val[i][0]==1 and 0.5< predictions[i][0] and targets_val[i][1]==0 and 0.5> predictions[i][1]:   #[1,0]\n",
        "    counter+=1\n",
        "  if targets_val[i][0]==0 and 0.5> predictions[i][0] and targets_val[i][1]==1 and 0.5< predictions[i][1]:    #[0,1]\n",
        "    counter+=1\n",
        "  if targets_val[i][0]==0 and 0.5> predictions[i][0] and targets_val[i][1]==0 and 0.5> predictions[i][1]:    #[0,0]\n",
        "    counter+=1\n",
        "\n",
        "\n",
        "print(counter/len(targets_val))"
      ],
      "execution_count": null,
      "outputs": []
    },
    {
      "cell_type": "code",
      "metadata": {
        "id": "JmgX6HhZH50B"
      },
      "source": [
        "\n",
        "plt.plot(history.history['loss'], label='loss')\n",
        "plt.plot(history.history['val_loss'], label='val_loss')"
      ],
      "execution_count": null,
      "outputs": []
    },
    {
      "cell_type": "code",
      "metadata": {
        "id": "7H5iYcHxYOAv"
      },
      "source": [
        "modelCNN.save(\"nn_Horse_Dolphin.h5\")  \n",
        "\n",
        "new_model = keras.models.load_model(\"nn_Horse_Dolphin.h5\")"
      ],
      "execution_count": null,
      "outputs": []
    },
    {
      "cell_type": "code",
      "metadata": {
        "colab": {
          "background_save": true
        },
        "id": "w-O5o2m9SXa-"
      },
      "source": [
        "predictions = new_model(arr_inputs_float_val)\n",
        "\n",
        "counter=0\n",
        "for i in range(len(targets_val)):\n",
        "  if targets_val[i][0]==1 and 0.5< predictions[i][0] and targets_val[i][1]==1 and 0.5< predictions[i][1]:  #[1,1]\n",
        "    counter+=1\n",
        "  if targets_val[i][0]==1 and 0.5< predictions[i][0] and targets_val[i][1]==0 and 0.5> predictions[i][1]:   #[1,0]\n",
        "    counter+=1\n",
        "  if targets_val[i][0]==0 and 0.5> predictions[i][0] and targets_val[i][1]==1 and 0.5< predictions[i][1]:    #[0,1]\n",
        "    counter+=1\n",
        "  if targets_val[i][0]==0 and 0.5> predictions[i][0] and targets_val[i][1]==0 and 0.5> predictions[i][1]:    #[0,0]\n",
        "    counter+=1\n",
        "\n",
        "\n",
        "print(counter/len(targets_val))"
      ],
      "execution_count": null,
      "outputs": []
    },
    {
      "cell_type": "code",
      "metadata": {
        "id": "yYCinv_fIGCs"
      },
      "source": [
        "#Check the model on the test dataset\n",
        "\n",
        "predictions=new_model(arr_inputs_float_test)\n",
        "\n",
        "counter=0\n",
        "for i in range(len(targets_test)):\n",
        "  if targets_test[i][0]==1 and 0.5< predictions[i][0] and targets_test[i][1]==1 and 0.5< predictions[i][1]:  #[1,1]\n",
        "    counter+=1\n",
        "  if targets_test[i][0]==1 and 0.5< predictions[i][0] and targets_test[i][1]==0 and 0.5> predictions[i][1]:   #[1,0]\n",
        "    counter+=1\n",
        "  if targets_test[i][0]==0 and 0.5> predictions[i][0] and targets_test[i][1]==1 and 0.5< predictions[i][1]:    #[0,1]\n",
        "    counter+=1\n",
        "  if targets_test[i][0]==0 and 0.5> predictions[i][0] and targets_test[i][1]==0 and 0.5> predictions[i][1]:    #[0,0]\n",
        "    counter+=1\n",
        "\n",
        "\n",
        "print(counter/len(targets_test))\n",
        "\n"
      ],
      "execution_count": null,
      "outputs": []
    },
    {
      "cell_type": "code",
      "metadata": {
        "id": "Ny4_cJHwKymK"
      },
      "source": [
        "a=predictions.numpy()\n",
        "torch_predictions=torch.tensor(a, dtype=torch.float32)\n"
      ],
      "execution_count": null,
      "outputs": []
    },
    {
      "cell_type": "code",
      "metadata": {
        "id": "UszoYU9AB1Po"
      },
      "source": [
        "arr_inputs_test = np.array(targets_test)\n",
        "arr_inputs_float_targetstest=arr_inputs_test.astype('float32')\n",
        "\n",
        "def F_score(output, label, threshold=0.5, beta=1):\n",
        "    prob = output > threshold\n",
        "    label = label > threshold\n",
        "\n",
        "    TP = (prob & label).sum(1).float()\n",
        "    TN = ((~prob) & (~label)).sum(1).float()\n",
        "    FP = (prob & (~label)).sum(1).float()\n",
        "    FN = ((~prob) & label).sum(1).float()\n",
        "\n",
        "    precision = torch.mean(TP / (TP + FP + 1e-12))\n",
        "    recall = torch.mean(TP / (TP + FN + 1e-12))\n",
        "    F2 = (1 + beta**2) * precision * recall / (beta**2 * precision + recall + 1e-12)\n",
        "\n",
        "    # F2 = 2* precision * recall / (precision + recall)\n",
        "\n",
        "    return F2.mean(0)\n",
        "\n",
        "\n",
        "\n",
        "\n",
        "\n",
        "\n",
        "score = F_score(torch_predictions, arr_inputs_float_targetstest)\n",
        "print(score)\n"
      ],
      "execution_count": null,
      "outputs": []
    },
    {
      "cell_type": "code",
      "metadata": {
        "id": "6WLXMb_fIdY9"
      },
      "source": [
        "len(arr_inputs_float_test)\n",
        "#len(arr_inputs_float_targetstest)"
      ],
      "execution_count": null,
      "outputs": []
    },
    {
      "cell_type": "markdown",
      "metadata": {
        "id": "Tr5CqBJmszxa"
      },
      "source": [
        "End of the project"
      ]
    },
    {
      "cell_type": "markdown",
      "metadata": {
        "id": "J1hZrZ8siMyA"
      },
      "source": [
        "Some miscellaneous and pilot codes,\n",
        "This part doesn't belong to the above-mentioned\n",
        "pytorch vs tensorflow project"
      ]
    },
    {
      "cell_type": "code",
      "metadata": {
        "id": "m5KIMbaKiLej"
      },
      "source": [
        "import os\n",
        "import math\n",
        "import random\n",
        "import shutil\n",
        "\n",
        "import numpy as np\n",
        "import pandas as pd\n",
        "import matplotlib.pyplot as plt\n",
        "import seaborn as sn\n",
        "\n",
        "import tensorflow as tf\n",
        "from tensorflow import keras\n",
        "from tensorflow.keras import layers\n",
        "\n",
        "names = [\"dolphin\", \"dolphin_horse\", \"horse\"]\n",
        "\n",
        "preprocess_input = tf.keras.applications.vgg16.preprocess_input\n",
        "\n",
        "train_gen = keras.preprocessing.image.ImageDataGenerator(preprocessing_function=preprocess_input)\n",
        "valid_gen = keras.preprocessing.image.ImageDataGenerator(preprocessing_function=preprocess_input)\n",
        "test_gen = keras.preprocessing.image.ImageDataGenerator(preprocessing_function=preprocess_input)\n",
        "\n",
        "train_batches = train_gen.flow_from_directory(\n",
        "    r'/content/train',\n",
        "    target_size=(64, 64),\n",
        "    class_mode='sparse',\n",
        "    batch_size=32,\n",
        "    shuffle=True,\n",
        "    color_mode=\"rgb\",\n",
        "    classes=names   \n",
        ")\n",
        "\n",
        "val_batches = valid_gen.flow_from_directory(\n",
        "    r'/content/valid',\n",
        "    target_size=(64, 64),\n",
        "    class_mode='sparse',\n",
        "    batch_size=32,\n",
        "    shuffle=False,\n",
        "    color_mode=\"rgb\",\n",
        "    classes=names\n",
        ")\n",
        "\n",
        "test_batches = test_gen.flow_from_directory(\n",
        "    r'/content/test',\n",
        "    target_size=(64, 64),\n",
        "    class_mode='sparse',\n",
        "    batch_size=32,\n",
        "    shuffle=False,\n",
        "    color_mode=\"rgb\",\n",
        "    classes=names)"
      ],
      "execution_count": null,
      "outputs": []
    },
    {
      "cell_type": "code",
      "metadata": {
        "id": "ekRSvFGykF7V"
      },
      "source": [
        "len(train_batches)"
      ],
      "execution_count": null,
      "outputs": []
    },
    {
      "cell_type": "code",
      "metadata": {
        "id": "fOdTWujdkrjc"
      },
      "source": [
        "train_batch = train_batches[2]\n",
        "print(train_batch[0][0].shape)\n",
        "\n",
        "test_batch = test_batches[3]\n",
        "print(test_batch[0].shape)\n",
        "print(test_batch[1])\n",
        "\n",
        "def show(batch, pred_labels=None):\n",
        "    #plt.figure(figsize=(1,1))\n",
        "    fig, (ax)=plt.subplots(2,2, sharex=True)\n",
        "    ax = ax.flatten()\n",
        "    #ax = ax.T.flatten()\n",
        "    for i in range(4):    \n",
        "        ax[i].imshow(batch[0][i])\n",
        "        ax[i].set_title(names[int(batch[1][i])])\n",
        " \n",
        "show(test_batch)"
      ],
      "execution_count": null,
      "outputs": []
    },
    {
      "cell_type": "code",
      "metadata": {
        "id": "tkwSM8fwieot"
      },
      "source": [
        "modelCNN = keras.models.Sequential()\n",
        "modelCNN.add(layers.Conv2D(32, (3,3), strides=(1,1), padding=\"valid\", activation='relu', input_shape=(64,64,3)))  \n",
        "modelCNN.add(layers.MaxPool2D((2,2)))   #117\n",
        "modelCNN.add(layers.Conv2D(64, 3, activation='relu'))\n",
        "modelCNN.add(layers.MaxPool2D((2,2)))  #16\n",
        "modelCNN.add(layers.Conv2D(128, 3, activation='relu'))\n",
        "modelCNN.add(layers.MaxPool2D((2,2)))  #8\n",
        "modelCNN.add(layers.Conv2D(256, 3, activation='relu'))\n",
        "modelCNN.add(layers.MaxPool2D((2,2)))  #4\n",
        "modelCNN.add(layers.MaxPool2D((2,2)))  #2\n",
        "modelCNN.add(layers.Flatten())\n",
        "modelCNN.add(layers.Dense(1024, activation='relu'))\n",
        "modelCNN.add(layers.Dense(512, activation='relu'))\n",
        "modelCNN.add(layers.Dense(3, activation='sigmoid'))\n",
        "\n",
        "\n",
        "# 2.) lOSS, OPTIMIZER, METRICS\n",
        "\n",
        "loss = keras.losses.BinaryCrossentropy(from_logits=False)  #SparseCategoricalCrossentropy as we have single classes(1,2), \n",
        "                                                                    #if it is vector (0,1,0,0....) CategoricalCrossentropy. \n",
        "                                                                    #From_logits=True as we didn't build the softmax into the model\n",
        "optim = keras.optimizers.Adam(lr=0.001)\n",
        "metrics = [\"accuracy\"]\n",
        "\n",
        "# 3.) CONFIGURATION OF THE MODEL\n",
        "\n",
        "modelCNN.compile(loss=loss, optimizer=optim, metrics=metrics)\n",
        "#model.compile(loss='binary_crossentropy', optimizer=RMSprop(lr=0.001), metrics=['accuracy'])\n",
        "\n",
        "# 4.) TRAINING\n",
        "\n",
        "epochs = 30\n",
        "\n",
        "modelCNN.fit(train_batches, validation_data=val_batches,\n",
        "          epochs=epochs, verbose=2)\n"
      ],
      "execution_count": null,
      "outputs": []
    },
    {
      "cell_type": "code",
      "metadata": {
        "id": "-VCAYW4ft-HL"
      },
      "source": [
        "####THE HOUSING EXERCISE TF\n",
        "\n",
        "import numpy as np\n",
        "import tensorflow\n",
        "from tensorflow import keras\n",
        "\n",
        "def house_model(y_new):\n",
        "    xs = np.array([[1.], [2], [3], [4], [5], [6]], dtype='float32')\n",
        "    ys = np.array([[0.1], [0.15], [0.2], [0.25], [0.3], [0.35]], dtype='float32')\n",
        "    model =keras.Sequential([keras.layers.Dense(1)])\n",
        "    model.compile(optimizer='sgd', loss='mean_squared_error')\n",
        "    model.fit(xs, ys, epochs=500)\n",
        "    return model.predict(y_new)\n",
        "\n",
        "prediction = house_model([7.0])\n",
        "print(prediction*10)"
      ],
      "execution_count": null,
      "outputs": []
    },
    {
      "cell_type": "code",
      "metadata": {
        "id": "Jh1yijm_UlwV"
      },
      "source": [
        "#SEE THE CONVOLUTION\n",
        "\n",
        "import numpy as np\n",
        "import random\n",
        "from tensorflow.keras.preprocessing.image import img_to_array, load_img\n",
        "\n",
        "# Let's define a new Model that will take an image as input, and will output\n",
        "# intermediate representations for all layers in the previous model after\n",
        "# the first.\n",
        "successive_outputs = [layer.output for layer in model.layers[1:]]\n",
        "#visualization_model = Model(img_input, successive_outputs)\n",
        "visualization_model = tf.keras.models.Model(inputs = model.input, outputs = successive_outputs)\n",
        "# Let's prepare a random input image from the training set.\n",
        "horse_img_files = [os.path.join(train_horse_dir, f) for f in train_horse_names]\n",
        "human_img_files = [os.path.join(train_human_dir, f) for f in train_human_names]\n",
        "img_path = random.choice(horse_img_files + human_img_files)\n",
        "\n",
        "img = load_img(img_path, target_size=(300, 300))  # this is a PIL image\n",
        "x = img_to_array(img)  # Numpy array with shape (150, 150, 3)\n",
        "x = x.reshape((1,) + x.shape)  # Numpy array with shape (1, 150, 150, 3)\n",
        "\n",
        "# Rescale by 1/255\n",
        "x /= 255\n",
        "\n",
        "# Let's run our image through our network, thus obtaining all\n",
        "# intermediate representations for this image.\n",
        "successive_feature_maps = visualization_model.predict(x)\n",
        "\n",
        "# These are the names of the layers, so can have them as part of our plot\n",
        "layer_names = [layer.name for layer in model.layers[1:]]\n",
        "\n",
        "# Now let's display our representations\n",
        "for layer_name, feature_map in zip(layer_names, successive_feature_maps):\n",
        "  if len(feature_map.shape) == 4:\n",
        "    # Just do this for the conv / maxpool layers, not the fully-connected layers\n",
        "    n_features = feature_map.shape[-1]  # number of features in feature map\n",
        "    # The feature map has shape (1, size, size, n_features)\n",
        "    size = feature_map.shape[1]\n",
        "    # We will tile our images in this matrix\n",
        "    display_grid = np.zeros((size, size * n_features))\n",
        "    for i in range(n_features):\n",
        "      # Postprocess the feature to make it visually palatable\n",
        "      x = feature_map[0, :, :, i]\n",
        "      x -= x.mean()\n",
        "      x /= x.std()\n",
        "      x *= 64\n",
        "      x += 128\n",
        "      x = np.clip(x, 0, 255).astype('uint8')\n",
        "      # We'll tile each filter into this big horizontal grid\n",
        "      display_grid[:, i * size : (i + 1) * size] = x\n",
        "    # Display the grid\n",
        "    scale = 20. / n_features\n",
        "    plt.figure(figsize=(scale * n_features, scale))\n",
        "    plt.title(layer_name)\n",
        "    plt.grid(False)\n",
        "    plt.imshow(display_grid, aspect='auto', cmap='viridis')"
      ],
      "execution_count": null,
      "outputs": []
    }
  ]
}